{
 "cells": [
  {
   "cell_type": "markdown",
   "id": "9070f0fc",
   "metadata": {},
   "source": [
    "# Problem Statement\n",
    "The aim of this project is to use historical bank loan data to predict a client's ability to repay future loans based on client's info and credit history."
   ]
  },
  {
   "cell_type": "markdown",
   "id": "9d58e34d",
   "metadata": {},
   "source": [
    "# Content\n",
    "\n",
    "1. Cleaning of data<br>\n",
    "-Check for null values or rows<br>\n",
    "-Impute or remove missing values<br>\n",
    "\n",
    "2. EDA<br>\n",
    "-Analysing of data distribution pattern<br>\n",
    "-Data Encoding<br>\n",
    "-Analysing correlation of variables using heatmap<br>\n",
    "\n",
    "3. Apply ML Algorithm<br>\n",
    "-Build baseline model using Logistic Regression<br>\n",
    "-Evaluation of Logistic Regression Model using Confusion Matrix and ROC Curve<br>\n",
    "-Building of KNearest Neighbours and Decision Trees model<br>\n",
    "-GridSearch on KNearest Neighbours model to find optimal number of neighbours for better accuracy score<br>\n",
    "-Evaluation of KNearest Neighbours model using Confusion Matrix and ROC Curve<br>\n",
    "\n",
    "4. Summary"
   ]
  },
  {
   "cell_type": "markdown",
   "id": "336b8dab",
   "metadata": {},
   "source": [
    "# Import Libararies/Packages"
   ]
  },
  {
   "cell_type": "code",
   "execution_count": 1,
   "id": "e7b336be",
   "metadata": {},
   "outputs": [],
   "source": [
    "#Data Manipulation\n",
    "import numpy as np\n",
    "import pandas as pd\n",
    "\n",
    "#Data Plotting\n",
    "import matplotlib.pyplot as plt\n",
    "import seaborn as sns\n",
    "\n",
    "#Suppress Warnings\n",
    "import warnings\n",
    "warnings.filterwarnings('ignore')"
   ]
  },
  {
   "cell_type": "markdown",
   "id": "93318dfd",
   "metadata": {},
   "source": [
    "# Cleaning of Training Data"
   ]
  },
  {
   "cell_type": "code",
   "execution_count": 2,
   "id": "ceb4505b",
   "metadata": {},
   "outputs": [
    {
     "data": {
      "text/plain": [
       "(100514, 19)"
      ]
     },
     "execution_count": 2,
     "metadata": {},
     "output_type": "execute_result"
    }
   ],
   "source": [
    "#Import data and take a look at shape of training data\n",
    "credit_train = pd.read_csv('credit_train.csv')\n",
    "credit_train.shape"
   ]
  },
  {
   "cell_type": "code",
   "execution_count": 3,
   "id": "94812dd3",
   "metadata": {},
   "outputs": [
    {
     "data": {
      "text/plain": [
       "Loan ID                          object\n",
       "Customer ID                      object\n",
       "Loan Status                      object\n",
       "Current Loan Amount             float64\n",
       "Term                             object\n",
       "Credit Score                    float64\n",
       "Annual Income                   float64\n",
       "Years in current job             object\n",
       "Home Ownership                   object\n",
       "Purpose                          object\n",
       "Monthly Debt                    float64\n",
       "Years of Credit History         float64\n",
       "Months since last delinquent    float64\n",
       "Number of Open Accounts         float64\n",
       "Number of Credit Problems       float64\n",
       "Current Credit Balance          float64\n",
       "Maximum Open Credit             float64\n",
       "Bankruptcies                    float64\n",
       "Tax Liens                       float64\n",
       "dtype: object"
      ]
     },
     "execution_count": 3,
     "metadata": {},
     "output_type": "execute_result"
    }
   ],
   "source": [
    "#To see the columns and data type of each column\n",
    "credit_train.dtypes"
   ]
  },
  {
   "cell_type": "code",
   "execution_count": 4,
   "id": "e09e13cd",
   "metadata": {},
   "outputs": [
    {
     "data": {
      "text/plain": [
       "RangeIndex(start=0, stop=100514, step=1)"
      ]
     },
     "execution_count": 4,
     "metadata": {},
     "output_type": "execute_result"
    }
   ],
   "source": [
    "#To see the index of the data\n",
    "credit_train.index"
   ]
  },
  {
   "cell_type": "code",
   "execution_count": 5,
   "id": "f5615d0b",
   "metadata": {},
   "outputs": [
    {
     "data": {
      "text/html": [
       "<div>\n",
       "<style scoped>\n",
       "    .dataframe tbody tr th:only-of-type {\n",
       "        vertical-align: middle;\n",
       "    }\n",
       "\n",
       "    .dataframe tbody tr th {\n",
       "        vertical-align: top;\n",
       "    }\n",
       "\n",
       "    .dataframe thead th {\n",
       "        text-align: right;\n",
       "    }\n",
       "</style>\n",
       "<table border=\"1\" class=\"dataframe\">\n",
       "  <thead>\n",
       "    <tr style=\"text-align: right;\">\n",
       "      <th></th>\n",
       "      <th>Loan ID</th>\n",
       "      <th>Customer ID</th>\n",
       "      <th>Loan Status</th>\n",
       "      <th>Current Loan Amount</th>\n",
       "      <th>Term</th>\n",
       "      <th>Credit Score</th>\n",
       "      <th>Annual Income</th>\n",
       "      <th>Years in current job</th>\n",
       "      <th>Home Ownership</th>\n",
       "      <th>Purpose</th>\n",
       "      <th>Monthly Debt</th>\n",
       "      <th>Years of Credit History</th>\n",
       "      <th>Months since last delinquent</th>\n",
       "      <th>Number of Open Accounts</th>\n",
       "      <th>Number of Credit Problems</th>\n",
       "      <th>Current Credit Balance</th>\n",
       "      <th>Maximum Open Credit</th>\n",
       "      <th>Bankruptcies</th>\n",
       "      <th>Tax Liens</th>\n",
       "    </tr>\n",
       "  </thead>\n",
       "  <tbody>\n",
       "    <tr>\n",
       "      <th>0</th>\n",
       "      <td>14dd8831-6af5-400b-83ec-68e61888a048</td>\n",
       "      <td>981165ec-3274-42f5-a3b4-d104041a9ca9</td>\n",
       "      <td>Fully Paid</td>\n",
       "      <td>445412.0</td>\n",
       "      <td>Short Term</td>\n",
       "      <td>709.0</td>\n",
       "      <td>1167493.0</td>\n",
       "      <td>8 years</td>\n",
       "      <td>Home Mortgage</td>\n",
       "      <td>Home Improvements</td>\n",
       "      <td>5214.74</td>\n",
       "      <td>17.2</td>\n",
       "      <td>NaN</td>\n",
       "      <td>6.0</td>\n",
       "      <td>1.0</td>\n",
       "      <td>228190.0</td>\n",
       "      <td>416746.0</td>\n",
       "      <td>1.0</td>\n",
       "      <td>0.0</td>\n",
       "    </tr>\n",
       "    <tr>\n",
       "      <th>1</th>\n",
       "      <td>4771cc26-131a-45db-b5aa-537ea4ba5342</td>\n",
       "      <td>2de017a3-2e01-49cb-a581-08169e83be29</td>\n",
       "      <td>Fully Paid</td>\n",
       "      <td>262328.0</td>\n",
       "      <td>Short Term</td>\n",
       "      <td>NaN</td>\n",
       "      <td>NaN</td>\n",
       "      <td>10+ years</td>\n",
       "      <td>Home Mortgage</td>\n",
       "      <td>Debt Consolidation</td>\n",
       "      <td>33295.98</td>\n",
       "      <td>21.1</td>\n",
       "      <td>8.0</td>\n",
       "      <td>35.0</td>\n",
       "      <td>0.0</td>\n",
       "      <td>229976.0</td>\n",
       "      <td>850784.0</td>\n",
       "      <td>0.0</td>\n",
       "      <td>0.0</td>\n",
       "    </tr>\n",
       "    <tr>\n",
       "      <th>2</th>\n",
       "      <td>4eed4e6a-aa2f-4c91-8651-ce984ee8fb26</td>\n",
       "      <td>5efb2b2b-bf11-4dfd-a572-3761a2694725</td>\n",
       "      <td>Fully Paid</td>\n",
       "      <td>99999999.0</td>\n",
       "      <td>Short Term</td>\n",
       "      <td>741.0</td>\n",
       "      <td>2231892.0</td>\n",
       "      <td>8 years</td>\n",
       "      <td>Own Home</td>\n",
       "      <td>Debt Consolidation</td>\n",
       "      <td>29200.53</td>\n",
       "      <td>14.9</td>\n",
       "      <td>29.0</td>\n",
       "      <td>18.0</td>\n",
       "      <td>1.0</td>\n",
       "      <td>297996.0</td>\n",
       "      <td>750090.0</td>\n",
       "      <td>0.0</td>\n",
       "      <td>0.0</td>\n",
       "    </tr>\n",
       "    <tr>\n",
       "      <th>3</th>\n",
       "      <td>77598f7b-32e7-4e3b-a6e5-06ba0d98fe8a</td>\n",
       "      <td>e777faab-98ae-45af-9a86-7ce5b33b1011</td>\n",
       "      <td>Fully Paid</td>\n",
       "      <td>347666.0</td>\n",
       "      <td>Long Term</td>\n",
       "      <td>721.0</td>\n",
       "      <td>806949.0</td>\n",
       "      <td>3 years</td>\n",
       "      <td>Own Home</td>\n",
       "      <td>Debt Consolidation</td>\n",
       "      <td>8741.90</td>\n",
       "      <td>12.0</td>\n",
       "      <td>NaN</td>\n",
       "      <td>9.0</td>\n",
       "      <td>0.0</td>\n",
       "      <td>256329.0</td>\n",
       "      <td>386958.0</td>\n",
       "      <td>0.0</td>\n",
       "      <td>0.0</td>\n",
       "    </tr>\n",
       "    <tr>\n",
       "      <th>4</th>\n",
       "      <td>d4062e70-befa-4995-8643-a0de73938182</td>\n",
       "      <td>81536ad9-5ccf-4eb8-befb-47a4d608658e</td>\n",
       "      <td>Fully Paid</td>\n",
       "      <td>176220.0</td>\n",
       "      <td>Short Term</td>\n",
       "      <td>NaN</td>\n",
       "      <td>NaN</td>\n",
       "      <td>5 years</td>\n",
       "      <td>Rent</td>\n",
       "      <td>Debt Consolidation</td>\n",
       "      <td>20639.70</td>\n",
       "      <td>6.1</td>\n",
       "      <td>NaN</td>\n",
       "      <td>15.0</td>\n",
       "      <td>0.0</td>\n",
       "      <td>253460.0</td>\n",
       "      <td>427174.0</td>\n",
       "      <td>0.0</td>\n",
       "      <td>0.0</td>\n",
       "    </tr>\n",
       "  </tbody>\n",
       "</table>\n",
       "</div>"
      ],
      "text/plain": [
       "                                Loan ID                           Customer ID  \\\n",
       "0  14dd8831-6af5-400b-83ec-68e61888a048  981165ec-3274-42f5-a3b4-d104041a9ca9   \n",
       "1  4771cc26-131a-45db-b5aa-537ea4ba5342  2de017a3-2e01-49cb-a581-08169e83be29   \n",
       "2  4eed4e6a-aa2f-4c91-8651-ce984ee8fb26  5efb2b2b-bf11-4dfd-a572-3761a2694725   \n",
       "3  77598f7b-32e7-4e3b-a6e5-06ba0d98fe8a  e777faab-98ae-45af-9a86-7ce5b33b1011   \n",
       "4  d4062e70-befa-4995-8643-a0de73938182  81536ad9-5ccf-4eb8-befb-47a4d608658e   \n",
       "\n",
       "  Loan Status  Current Loan Amount        Term  Credit Score  Annual Income  \\\n",
       "0  Fully Paid             445412.0  Short Term         709.0      1167493.0   \n",
       "1  Fully Paid             262328.0  Short Term           NaN            NaN   \n",
       "2  Fully Paid           99999999.0  Short Term         741.0      2231892.0   \n",
       "3  Fully Paid             347666.0   Long Term         721.0       806949.0   \n",
       "4  Fully Paid             176220.0  Short Term           NaN            NaN   \n",
       "\n",
       "  Years in current job Home Ownership             Purpose  Monthly Debt  \\\n",
       "0              8 years  Home Mortgage   Home Improvements       5214.74   \n",
       "1            10+ years  Home Mortgage  Debt Consolidation      33295.98   \n",
       "2              8 years       Own Home  Debt Consolidation      29200.53   \n",
       "3              3 years       Own Home  Debt Consolidation       8741.90   \n",
       "4              5 years           Rent  Debt Consolidation      20639.70   \n",
       "\n",
       "   Years of Credit History  Months since last delinquent  \\\n",
       "0                     17.2                           NaN   \n",
       "1                     21.1                           8.0   \n",
       "2                     14.9                          29.0   \n",
       "3                     12.0                           NaN   \n",
       "4                      6.1                           NaN   \n",
       "\n",
       "   Number of Open Accounts  Number of Credit Problems  Current Credit Balance  \\\n",
       "0                      6.0                        1.0                228190.0   \n",
       "1                     35.0                        0.0                229976.0   \n",
       "2                     18.0                        1.0                297996.0   \n",
       "3                      9.0                        0.0                256329.0   \n",
       "4                     15.0                        0.0                253460.0   \n",
       "\n",
       "   Maximum Open Credit  Bankruptcies  Tax Liens  \n",
       "0             416746.0           1.0        0.0  \n",
       "1             850784.0           0.0        0.0  \n",
       "2             750090.0           0.0        0.0  \n",
       "3             386958.0           0.0        0.0  \n",
       "4             427174.0           0.0        0.0  "
      ]
     },
     "execution_count": 5,
     "metadata": {},
     "output_type": "execute_result"
    }
   ],
   "source": [
    "#Taking a look at the first 5 rows\n",
    "credit_train.head()"
   ]
  },
  {
   "cell_type": "code",
   "execution_count": 6,
   "id": "aa371792",
   "metadata": {},
   "outputs": [
    {
     "name": "stdout",
     "output_type": "stream",
     "text": [
      "<class 'pandas.core.frame.DataFrame'>\n",
      "RangeIndex: 100514 entries, 0 to 100513\n",
      "Data columns (total 19 columns):\n",
      " #   Column                        Non-Null Count   Dtype  \n",
      "---  ------                        --------------   -----  \n",
      " 0   Loan ID                       100000 non-null  object \n",
      " 1   Customer ID                   100000 non-null  object \n",
      " 2   Loan Status                   100000 non-null  object \n",
      " 3   Current Loan Amount           100000 non-null  float64\n",
      " 4   Term                          100000 non-null  object \n",
      " 5   Credit Score                  80846 non-null   float64\n",
      " 6   Annual Income                 80846 non-null   float64\n",
      " 7   Years in current job          95778 non-null   object \n",
      " 8   Home Ownership                100000 non-null  object \n",
      " 9   Purpose                       100000 non-null  object \n",
      " 10  Monthly Debt                  100000 non-null  float64\n",
      " 11  Years of Credit History       100000 non-null  float64\n",
      " 12  Months since last delinquent  46859 non-null   float64\n",
      " 13  Number of Open Accounts       100000 non-null  float64\n",
      " 14  Number of Credit Problems     100000 non-null  float64\n",
      " 15  Current Credit Balance        100000 non-null  float64\n",
      " 16  Maximum Open Credit           99998 non-null   float64\n",
      " 17  Bankruptcies                  99796 non-null   float64\n",
      " 18  Tax Liens                     99990 non-null   float64\n",
      "dtypes: float64(12), object(7)\n",
      "memory usage: 14.6+ MB\n"
     ]
    }
   ],
   "source": [
    "credit_train.info()\n",
    "\n",
    "#Total 100514 entries but max non-null count for each data column is 100000, could mean that 514 are null entries for all 19 columns"
   ]
  },
  {
   "cell_type": "code",
   "execution_count": 7,
   "id": "9735e168",
   "metadata": {},
   "outputs": [
    {
     "data": {
      "text/html": [
       "<div>\n",
       "<style scoped>\n",
       "    .dataframe tbody tr th:only-of-type {\n",
       "        vertical-align: middle;\n",
       "    }\n",
       "\n",
       "    .dataframe tbody tr th {\n",
       "        vertical-align: top;\n",
       "    }\n",
       "\n",
       "    .dataframe thead th {\n",
       "        text-align: right;\n",
       "    }\n",
       "</style>\n",
       "<table border=\"1\" class=\"dataframe\">\n",
       "  <thead>\n",
       "    <tr style=\"text-align: right;\">\n",
       "      <th></th>\n",
       "      <th>Current Loan Amount</th>\n",
       "      <th>Credit Score</th>\n",
       "      <th>Annual Income</th>\n",
       "      <th>Monthly Debt</th>\n",
       "      <th>Years of Credit History</th>\n",
       "      <th>Months since last delinquent</th>\n",
       "      <th>Number of Open Accounts</th>\n",
       "      <th>Number of Credit Problems</th>\n",
       "      <th>Current Credit Balance</th>\n",
       "      <th>Maximum Open Credit</th>\n",
       "      <th>Bankruptcies</th>\n",
       "      <th>Tax Liens</th>\n",
       "    </tr>\n",
       "  </thead>\n",
       "  <tbody>\n",
       "    <tr>\n",
       "      <th>count</th>\n",
       "      <td>1.000000e+05</td>\n",
       "      <td>80846.000000</td>\n",
       "      <td>8.084600e+04</td>\n",
       "      <td>100000.000000</td>\n",
       "      <td>100000.000000</td>\n",
       "      <td>46859.000000</td>\n",
       "      <td>100000.00000</td>\n",
       "      <td>100000.000000</td>\n",
       "      <td>1.000000e+05</td>\n",
       "      <td>9.999800e+04</td>\n",
       "      <td>99796.000000</td>\n",
       "      <td>99990.000000</td>\n",
       "    </tr>\n",
       "    <tr>\n",
       "      <th>mean</th>\n",
       "      <td>1.176045e+07</td>\n",
       "      <td>1076.456089</td>\n",
       "      <td>1.378277e+06</td>\n",
       "      <td>18472.412336</td>\n",
       "      <td>18.199141</td>\n",
       "      <td>34.901321</td>\n",
       "      <td>11.12853</td>\n",
       "      <td>0.168310</td>\n",
       "      <td>2.946374e+05</td>\n",
       "      <td>7.607984e+05</td>\n",
       "      <td>0.117740</td>\n",
       "      <td>0.029313</td>\n",
       "    </tr>\n",
       "    <tr>\n",
       "      <th>std</th>\n",
       "      <td>3.178394e+07</td>\n",
       "      <td>1475.403791</td>\n",
       "      <td>1.081360e+06</td>\n",
       "      <td>12174.992609</td>\n",
       "      <td>7.015324</td>\n",
       "      <td>21.997829</td>\n",
       "      <td>5.00987</td>\n",
       "      <td>0.482705</td>\n",
       "      <td>3.761709e+05</td>\n",
       "      <td>8.384503e+06</td>\n",
       "      <td>0.351424</td>\n",
       "      <td>0.258182</td>\n",
       "    </tr>\n",
       "    <tr>\n",
       "      <th>min</th>\n",
       "      <td>1.080200e+04</td>\n",
       "      <td>585.000000</td>\n",
       "      <td>7.662700e+04</td>\n",
       "      <td>0.000000</td>\n",
       "      <td>3.600000</td>\n",
       "      <td>0.000000</td>\n",
       "      <td>0.00000</td>\n",
       "      <td>0.000000</td>\n",
       "      <td>0.000000e+00</td>\n",
       "      <td>0.000000e+00</td>\n",
       "      <td>0.000000</td>\n",
       "      <td>0.000000</td>\n",
       "    </tr>\n",
       "    <tr>\n",
       "      <th>25%</th>\n",
       "      <td>1.796520e+05</td>\n",
       "      <td>705.000000</td>\n",
       "      <td>8.488440e+05</td>\n",
       "      <td>10214.162500</td>\n",
       "      <td>13.500000</td>\n",
       "      <td>16.000000</td>\n",
       "      <td>8.00000</td>\n",
       "      <td>0.000000</td>\n",
       "      <td>1.126700e+05</td>\n",
       "      <td>2.734380e+05</td>\n",
       "      <td>0.000000</td>\n",
       "      <td>0.000000</td>\n",
       "    </tr>\n",
       "    <tr>\n",
       "      <th>50%</th>\n",
       "      <td>3.122460e+05</td>\n",
       "      <td>724.000000</td>\n",
       "      <td>1.174162e+06</td>\n",
       "      <td>16220.300000</td>\n",
       "      <td>16.900000</td>\n",
       "      <td>32.000000</td>\n",
       "      <td>10.00000</td>\n",
       "      <td>0.000000</td>\n",
       "      <td>2.098170e+05</td>\n",
       "      <td>4.678740e+05</td>\n",
       "      <td>0.000000</td>\n",
       "      <td>0.000000</td>\n",
       "    </tr>\n",
       "    <tr>\n",
       "      <th>75%</th>\n",
       "      <td>5.249420e+05</td>\n",
       "      <td>741.000000</td>\n",
       "      <td>1.650663e+06</td>\n",
       "      <td>24012.057500</td>\n",
       "      <td>21.700000</td>\n",
       "      <td>51.000000</td>\n",
       "      <td>14.00000</td>\n",
       "      <td>0.000000</td>\n",
       "      <td>3.679588e+05</td>\n",
       "      <td>7.829580e+05</td>\n",
       "      <td>0.000000</td>\n",
       "      <td>0.000000</td>\n",
       "    </tr>\n",
       "    <tr>\n",
       "      <th>max</th>\n",
       "      <td>1.000000e+08</td>\n",
       "      <td>7510.000000</td>\n",
       "      <td>1.655574e+08</td>\n",
       "      <td>435843.280000</td>\n",
       "      <td>70.500000</td>\n",
       "      <td>176.000000</td>\n",
       "      <td>76.00000</td>\n",
       "      <td>15.000000</td>\n",
       "      <td>3.287897e+07</td>\n",
       "      <td>1.539738e+09</td>\n",
       "      <td>7.000000</td>\n",
       "      <td>15.000000</td>\n",
       "    </tr>\n",
       "  </tbody>\n",
       "</table>\n",
       "</div>"
      ],
      "text/plain": [
       "       Current Loan Amount  Credit Score  Annual Income   Monthly Debt  \\\n",
       "count         1.000000e+05  80846.000000   8.084600e+04  100000.000000   \n",
       "mean          1.176045e+07   1076.456089   1.378277e+06   18472.412336   \n",
       "std           3.178394e+07   1475.403791   1.081360e+06   12174.992609   \n",
       "min           1.080200e+04    585.000000   7.662700e+04       0.000000   \n",
       "25%           1.796520e+05    705.000000   8.488440e+05   10214.162500   \n",
       "50%           3.122460e+05    724.000000   1.174162e+06   16220.300000   \n",
       "75%           5.249420e+05    741.000000   1.650663e+06   24012.057500   \n",
       "max           1.000000e+08   7510.000000   1.655574e+08  435843.280000   \n",
       "\n",
       "       Years of Credit History  Months since last delinquent  \\\n",
       "count            100000.000000                  46859.000000   \n",
       "mean                 18.199141                     34.901321   \n",
       "std                   7.015324                     21.997829   \n",
       "min                   3.600000                      0.000000   \n",
       "25%                  13.500000                     16.000000   \n",
       "50%                  16.900000                     32.000000   \n",
       "75%                  21.700000                     51.000000   \n",
       "max                  70.500000                    176.000000   \n",
       "\n",
       "       Number of Open Accounts  Number of Credit Problems  \\\n",
       "count             100000.00000              100000.000000   \n",
       "mean                  11.12853                   0.168310   \n",
       "std                    5.00987                   0.482705   \n",
       "min                    0.00000                   0.000000   \n",
       "25%                    8.00000                   0.000000   \n",
       "50%                   10.00000                   0.000000   \n",
       "75%                   14.00000                   0.000000   \n",
       "max                   76.00000                  15.000000   \n",
       "\n",
       "       Current Credit Balance  Maximum Open Credit  Bankruptcies     Tax Liens  \n",
       "count            1.000000e+05         9.999800e+04  99796.000000  99990.000000  \n",
       "mean             2.946374e+05         7.607984e+05      0.117740      0.029313  \n",
       "std              3.761709e+05         8.384503e+06      0.351424      0.258182  \n",
       "min              0.000000e+00         0.000000e+00      0.000000      0.000000  \n",
       "25%              1.126700e+05         2.734380e+05      0.000000      0.000000  \n",
       "50%              2.098170e+05         4.678740e+05      0.000000      0.000000  \n",
       "75%              3.679588e+05         7.829580e+05      0.000000      0.000000  \n",
       "max              3.287897e+07         1.539738e+09      7.000000     15.000000  "
      ]
     },
     "execution_count": 7,
     "metadata": {},
     "output_type": "execute_result"
    }
   ],
   "source": [
    "#Taking a look at the statistics of the numerical columns\n",
    "credit_train.describe()"
   ]
  },
  {
   "cell_type": "code",
   "execution_count": 8,
   "id": "41ef9e1b",
   "metadata": {},
   "outputs": [
    {
     "data": {
      "text/plain": [
       "Loan ID                           514\n",
       "Customer ID                       514\n",
       "Loan Status                       514\n",
       "Current Loan Amount               514\n",
       "Term                              514\n",
       "Credit Score                    19668\n",
       "Annual Income                   19668\n",
       "Years in current job             4736\n",
       "Home Ownership                    514\n",
       "Purpose                           514\n",
       "Monthly Debt                      514\n",
       "Years of Credit History           514\n",
       "Months since last delinquent    53655\n",
       "Number of Open Accounts           514\n",
       "Number of Credit Problems         514\n",
       "Current Credit Balance            514\n",
       "Maximum Open Credit               516\n",
       "Bankruptcies                      718\n",
       "Tax Liens                         524\n",
       "dtype: int64"
      ]
     },
     "execution_count": 8,
     "metadata": {},
     "output_type": "execute_result"
    }
   ],
   "source": [
    "credit_train.isnull().sum()\n",
    "#There is probably 514 null rows, to remove all."
   ]
  },
  {
   "cell_type": "code",
   "execution_count": 9,
   "id": "a741687b",
   "metadata": {},
   "outputs": [
    {
     "data": {
      "text/plain": [
       "Loan ID                             0\n",
       "Customer ID                         0\n",
       "Loan Status                         0\n",
       "Current Loan Amount                 0\n",
       "Term                                0\n",
       "Credit Score                    19154\n",
       "Annual Income                   19154\n",
       "Years in current job             4222\n",
       "Home Ownership                      0\n",
       "Purpose                             0\n",
       "Monthly Debt                        0\n",
       "Years of Credit History             0\n",
       "Months since last delinquent    53141\n",
       "Number of Open Accounts             0\n",
       "Number of Credit Problems           0\n",
       "Current Credit Balance              0\n",
       "Maximum Open Credit                 2\n",
       "Bankruptcies                      204\n",
       "Tax Liens                          10\n",
       "dtype: int64"
      ]
     },
     "execution_count": 9,
     "metadata": {},
     "output_type": "execute_result"
    }
   ],
   "source": [
    "credit_train = credit_train.dropna(how='all')\n",
    "credit_train.isnull().sum()\n",
    "#If want to drop all the rows whose values are all null, then need to specify how='all' argument."
   ]
  },
  {
   "cell_type": "code",
   "execution_count": 10,
   "id": "9fdfa9d7",
   "metadata": {},
   "outputs": [
    {
     "data": {
      "text/plain": [
       "0        False\n",
       "1        False\n",
       "2        False\n",
       "3        False\n",
       "4        False\n",
       "         ...  \n",
       "99995     True\n",
       "99996    False\n",
       "99997    False\n",
       "99998    False\n",
       "99999    False\n",
       "Length: 100000, dtype: bool"
      ]
     },
     "execution_count": 10,
     "metadata": {},
     "output_type": "execute_result"
    }
   ],
   "source": [
    "#Checking if there is duplicates in the training data\n",
    "credit_train.duplicated()"
   ]
  },
  {
   "cell_type": "code",
   "execution_count": 11,
   "id": "5be24d76",
   "metadata": {},
   "outputs": [
    {
     "data": {
      "text/plain": [
       "10215"
      ]
     },
     "execution_count": 11,
     "metadata": {},
     "output_type": "execute_result"
    }
   ],
   "source": [
    "credit_train.duplicated().sum()\n",
    "#Sum of duplicate rows"
   ]
  },
  {
   "cell_type": "code",
   "execution_count": 12,
   "id": "09f416d4",
   "metadata": {},
   "outputs": [
    {
     "name": "stdout",
     "output_type": "stream",
     "text": [
      "<class 'pandas.core.frame.DataFrame'>\n",
      "Int64Index: 89785 entries, 0 to 99999\n",
      "Data columns (total 19 columns):\n",
      " #   Column                        Non-Null Count  Dtype  \n",
      "---  ------                        --------------  -----  \n",
      " 0   Loan ID                       89785 non-null  object \n",
      " 1   Customer ID                   89785 non-null  object \n",
      " 2   Loan Status                   89785 non-null  object \n",
      " 3   Current Loan Amount           89785 non-null  float64\n",
      " 4   Term                          89785 non-null  object \n",
      " 5   Credit Score                  70631 non-null  float64\n",
      " 6   Annual Income                 70631 non-null  float64\n",
      " 7   Years in current job          85983 non-null  object \n",
      " 8   Home Ownership                89785 non-null  object \n",
      " 9   Purpose                       89785 non-null  object \n",
      " 10  Monthly Debt                  89785 non-null  float64\n",
      " 11  Years of Credit History       89785 non-null  float64\n",
      " 12  Months since last delinquent  41448 non-null  float64\n",
      " 13  Number of Open Accounts       89785 non-null  float64\n",
      " 14  Number of Credit Problems     89785 non-null  float64\n",
      " 15  Current Credit Balance        89785 non-null  float64\n",
      " 16  Maximum Open Credit           89783 non-null  float64\n",
      " 17  Bankruptcies                  89595 non-null  float64\n",
      " 18  Tax Liens                     89776 non-null  float64\n",
      "dtypes: float64(12), object(7)\n",
      "memory usage: 13.7+ MB\n"
     ]
    }
   ],
   "source": [
    "credit_train = credit_train.drop_duplicates()\n",
    "credit_train.info()\n",
    "#Removed all duplicate rows"
   ]
  },
  {
   "cell_type": "code",
   "execution_count": 13,
   "id": "f8be7616",
   "metadata": {},
   "outputs": [
    {
     "name": "stdout",
     "output_type": "stream",
     "text": [
      "<class 'pandas.core.frame.DataFrame'>\n",
      "Int64Index: 89785 entries, 0 to 99999\n",
      "Data columns (total 17 columns):\n",
      " #   Column                        Non-Null Count  Dtype  \n",
      "---  ------                        --------------  -----  \n",
      " 0   Loan Status                   89785 non-null  object \n",
      " 1   Current Loan Amount           89785 non-null  float64\n",
      " 2   Term                          89785 non-null  object \n",
      " 3   Credit Score                  70631 non-null  float64\n",
      " 4   Annual Income                 70631 non-null  float64\n",
      " 5   Years in current job          85983 non-null  object \n",
      " 6   Home Ownership                89785 non-null  object \n",
      " 7   Purpose                       89785 non-null  object \n",
      " 8   Monthly Debt                  89785 non-null  float64\n",
      " 9   Years of Credit History       89785 non-null  float64\n",
      " 10  Months since last delinquent  41448 non-null  float64\n",
      " 11  Number of Open Accounts       89785 non-null  float64\n",
      " 12  Number of Credit Problems     89785 non-null  float64\n",
      " 13  Current Credit Balance        89785 non-null  float64\n",
      " 14  Maximum Open Credit           89783 non-null  float64\n",
      " 15  Bankruptcies                  89595 non-null  float64\n",
      " 16  Tax Liens                     89776 non-null  float64\n",
      "dtypes: float64(12), object(5)\n",
      "memory usage: 12.3+ MB\n"
     ]
    }
   ],
   "source": [
    "#To drop labels Loan ID and Customer ID as it is not required in analysis\n",
    "credit_train.drop(labels=['Loan ID', 'Customer ID'], axis=1, inplace=True)\n",
    "credit_train.info()"
   ]
  },
  {
   "cell_type": "code",
   "execution_count": 14,
   "id": "e8278ae0",
   "metadata": {},
   "outputs": [
    {
     "data": {
      "text/plain": [
       "Loan Status                         0\n",
       "Current Loan Amount                 0\n",
       "Term                                0\n",
       "Credit Score                    19154\n",
       "Annual Income                   19154\n",
       "Years in current job             3802\n",
       "Home Ownership                      0\n",
       "Purpose                             0\n",
       "Monthly Debt                        0\n",
       "Years of Credit History             0\n",
       "Months since last delinquent    48337\n",
       "Number of Open Accounts             0\n",
       "Number of Credit Problems           0\n",
       "Current Credit Balance              0\n",
       "Maximum Open Credit                 2\n",
       "Bankruptcies                      190\n",
       "Tax Liens                           9\n",
       "dtype: int64"
      ]
     },
     "execution_count": 14,
     "metadata": {},
     "output_type": "execute_result"
    }
   ],
   "source": [
    "#Taking a look at where are the null columns at again\n",
    "credit_train.isnull().sum()"
   ]
  },
  {
   "cell_type": "code",
   "execution_count": 15,
   "id": "2c347b38",
   "metadata": {},
   "outputs": [
    {
     "data": {
      "text/plain": [
       "Loan Status                     0.000000\n",
       "Current Loan Amount             0.000000\n",
       "Term                            0.000000\n",
       "Credit Score                    0.213332\n",
       "Annual Income                   0.213332\n",
       "Years in current job            0.042346\n",
       "Home Ownership                  0.000000\n",
       "Purpose                         0.000000\n",
       "Monthly Debt                    0.000000\n",
       "Years of Credit History         0.000000\n",
       "Months since last delinquent    0.538364\n",
       "Number of Open Accounts         0.000000\n",
       "Number of Credit Problems       0.000000\n",
       "Current Credit Balance          0.000000\n",
       "Maximum Open Credit             0.000022\n",
       "Bankruptcies                    0.002116\n",
       "Tax Liens                       0.000100\n",
       "dtype: float64"
      ]
     },
     "execution_count": 15,
     "metadata": {},
     "output_type": "execute_result"
    }
   ],
   "source": [
    "#Check the percentages of the null values per column\n",
    "credit_train.isnull().sum()/len(credit_train)"
   ]
  },
  {
   "cell_type": "code",
   "execution_count": 16,
   "id": "aa42ca8e",
   "metadata": {},
   "outputs": [
    {
     "data": {
      "text/plain": [
       "Loan Status                         0\n",
       "Current Loan Amount                 0\n",
       "Term                                0\n",
       "Credit Score                    19111\n",
       "Annual Income                   19111\n",
       "Years in current job             3802\n",
       "Home Ownership                      0\n",
       "Purpose                             0\n",
       "Monthly Debt                        0\n",
       "Years of Credit History             0\n",
       "Months since last delinquent    48336\n",
       "Number of Open Accounts             0\n",
       "Number of Credit Problems           0\n",
       "Current Credit Balance              0\n",
       "Maximum Open Credit                 0\n",
       "Bankruptcies                        0\n",
       "Tax Liens                           0\n",
       "dtype: int64"
      ]
     },
     "execution_count": 16,
     "metadata": {},
     "output_type": "execute_result"
    }
   ],
   "source": [
    "#Suggest to drop records with null values in Maximum Open Credit, Bankruptcies and Tax Liens since the number of records is low as compared to the whole dataset (<1%)\n",
    "credit_train = credit_train.dropna(subset=['Maximum Open Credit', 'Bankruptcies', 'Tax Liens'])\n",
    "credit_train.isnull().sum()"
   ]
  },
  {
   "cell_type": "code",
   "execution_count": 17,
   "id": "3bdc670c",
   "metadata": {},
   "outputs": [
    {
     "data": {
      "text/plain": [
       "Loan Status                      0\n",
       "Current Loan Amount              0\n",
       "Term                             0\n",
       "Credit Score                 19111\n",
       "Annual Income                19111\n",
       "Years in current job          3802\n",
       "Home Ownership                   0\n",
       "Purpose                          0\n",
       "Monthly Debt                     0\n",
       "Years of Credit History          0\n",
       "Number of Open Accounts          0\n",
       "Number of Credit Problems        0\n",
       "Current Credit Balance           0\n",
       "Maximum Open Credit              0\n",
       "Bankruptcies                     0\n",
       "Tax Liens                        0\n",
       "dtype: int64"
      ]
     },
     "execution_count": 17,
     "metadata": {},
     "output_type": "execute_result"
    }
   ],
   "source": [
    "#To drop the whole column on \"Months since last delinquent\" since >50% of the records are null.\n",
    "credit_train.drop(labels=['Months since last delinquent'], axis=1, inplace=True)\n",
    "credit_train.isnull().sum()"
   ]
  },
  {
   "cell_type": "code",
   "execution_count": 18,
   "id": "e46d0944",
   "metadata": {},
   "outputs": [
    {
     "data": {
      "text/plain": [
       "<AxesSubplot:xlabel='Credit Score', ylabel='Density'>"
      ]
     },
     "execution_count": 18,
     "metadata": {},
     "output_type": "execute_result"
    },
    {
     "data": {
      "image/png": "[encoded data removed]",
      "text/plain": [
       "<Figure size 432x288 with 1 Axes>"
      ]
     },
     "metadata": {
      "needs_background": "light"
     },
     "output_type": "display_data"
    }
   ],
   "source": [
    "sns.distplot(credit_train['Credit Score'], bins=12)\n",
    "#Majority of the credit score tend to be <1000 but there are quite a number of scores which are between the 6000-8000 range\n",
    "#Distribution is skewed, majority of credit scores between 0-1000"
   ]
  },
  {
   "cell_type": "code",
   "execution_count": 19,
   "id": "8e690df1",
   "metadata": {},
   "outputs": [
    {
     "data": {
      "text/plain": [
       "Loan Status                      0\n",
       "Current Loan Amount              0\n",
       "Term                             0\n",
       "Credit Score                     0\n",
       "Annual Income                19111\n",
       "Years in current job          3802\n",
       "Home Ownership                   0\n",
       "Purpose                          0\n",
       "Monthly Debt                     0\n",
       "Years of Credit History          0\n",
       "Number of Open Accounts          0\n",
       "Number of Credit Problems        0\n",
       "Current Credit Balance           0\n",
       "Maximum Open Credit              0\n",
       "Bankruptcies                     0\n",
       "Tax Liens                        0\n",
       "dtype: int64"
      ]
     },
     "execution_count": 19,
     "metadata": {},
     "output_type": "execute_result"
    }
   ],
   "source": [
    "#Since the distribution is skewed, we can take median of credit score to fill null values\n",
    "median = credit_train['Credit Score'].median()\n",
    "credit_train['Credit Score'] = credit_train['Credit Score'].fillna(median)\n",
    "credit_train.isnull().sum()"
   ]
  },
  {
   "cell_type": "code",
   "execution_count": 20,
   "id": "71b64b24",
   "metadata": {},
   "outputs": [
    {
     "data": {
      "text/plain": [
       "<AxesSubplot:xlabel='Annual Income', ylabel='Density'>"
      ]
     },
     "execution_count": 20,
     "metadata": {},
     "output_type": "execute_result"
    },
    {
     "data": {
      "image/png": "[encoded data removed]",
      "text/plain": [
       "<Figure size 432x288 with 1 Axes>"
      ]
     },
     "metadata": {
      "needs_background": "light"
     },
     "output_type": "display_data"
    }
   ],
   "source": [
    "sns.distplot(credit_train['Annual Income'], bins=12)\n",
    "#Large range of annual income of customers, with majority falling in the $(10**4 to 10**5) range."
   ]
  },
  {
   "cell_type": "code",
   "execution_count": 21,
   "id": "7c76da2f",
   "metadata": {},
   "outputs": [
    {
     "data": {
      "text/plain": [
       "Loan Status                     0\n",
       "Current Loan Amount             0\n",
       "Term                            0\n",
       "Credit Score                    0\n",
       "Annual Income                   0\n",
       "Years in current job         3802\n",
       "Home Ownership                  0\n",
       "Purpose                         0\n",
       "Monthly Debt                    0\n",
       "Years of Credit History         0\n",
       "Number of Open Accounts         0\n",
       "Number of Credit Problems       0\n",
       "Current Credit Balance          0\n",
       "Maximum Open Credit             0\n",
       "Bankruptcies                    0\n",
       "Tax Liens                       0\n",
       "dtype: int64"
      ]
     },
     "execution_count": 21,
     "metadata": {},
     "output_type": "execute_result"
    }
   ],
   "source": [
    "#Annual Income distribution is also skewed, to replace annual value null values with median.\n",
    "median = credit_train['Annual Income'].median()\n",
    "credit_train['Annual Income'] = credit_train['Annual Income'].fillna(median)\n",
    "credit_train.isnull().sum()"
   ]
  },
  {
   "cell_type": "code",
   "execution_count": 22,
   "id": "4b654dbc",
   "metadata": {},
   "outputs": [
    {
     "data": {
      "text/plain": [
       "<AxesSubplot:xlabel='Years in current job', ylabel='count'>"
      ]
     },
     "execution_count": 22,
     "metadata": {},
     "output_type": "execute_result"
    },
    {
     "data": {
      "image/png": "[encoded data removed]",
      "text/plain": [
       "<Figure size 720x576 with 1 Axes>"
      ]
     },
     "metadata": {
      "needs_background": "light"
     },
     "output_type": "display_data"
    }
   ],
   "source": [
    "#Note that years in current job is a object\n",
    "#Can use countplot for categorial data\n",
    "plt.figure(figsize=(10,8))\n",
    "sns.countplot(credit_train['Years in current job'])"
   ]
  },
  {
   "cell_type": "code",
   "execution_count": 23,
   "id": "f190a589",
   "metadata": {},
   "outputs": [
    {
     "data": {
      "text/plain": [
       "Loan Status                  0\n",
       "Current Loan Amount          0\n",
       "Term                         0\n",
       "Credit Score                 0\n",
       "Annual Income                0\n",
       "Years in current job         0\n",
       "Home Ownership               0\n",
       "Purpose                      0\n",
       "Monthly Debt                 0\n",
       "Years of Credit History      0\n",
       "Number of Open Accounts      0\n",
       "Number of Credit Problems    0\n",
       "Current Credit Balance       0\n",
       "Maximum Open Credit          0\n",
       "Bankruptcies                 0\n",
       "Tax Liens                    0\n",
       "dtype: int64"
      ]
     },
     "execution_count": 23,
     "metadata": {},
     "output_type": "execute_result"
    }
   ],
   "source": [
    "#From the plot, seems like 10+ years is the mode for years in current job.\n",
    "#To replace the null values in years in current job with mode of 10+ years\n",
    "credit_train['Years in current job'] = credit_train['Years in current job'].fillna('10+ years')\n",
    "credit_train.isnull().sum()"
   ]
  },
  {
   "cell_type": "code",
   "execution_count": 24,
   "id": "32f55252",
   "metadata": {},
   "outputs": [
    {
     "name": "stdout",
     "output_type": "stream",
     "text": [
      "<class 'pandas.core.frame.DataFrame'>\n",
      "Int64Index: 89593 entries, 0 to 99999\n",
      "Data columns (total 16 columns):\n",
      " #   Column                     Non-Null Count  Dtype  \n",
      "---  ------                     --------------  -----  \n",
      " 0   Loan Status                89593 non-null  object \n",
      " 1   Current Loan Amount        89593 non-null  float64\n",
      " 2   Term                       89593 non-null  object \n",
      " 3   Credit Score               89593 non-null  float64\n",
      " 4   Annual Income              89593 non-null  float64\n",
      " 5   Years in current job       89593 non-null  object \n",
      " 6   Home Ownership             89593 non-null  object \n",
      " 7   Purpose                    89593 non-null  object \n",
      " 8   Monthly Debt               89593 non-null  float64\n",
      " 9   Years of Credit History    89593 non-null  float64\n",
      " 10  Number of Open Accounts    89593 non-null  float64\n",
      " 11  Number of Credit Problems  89593 non-null  float64\n",
      " 12  Current Credit Balance     89593 non-null  float64\n",
      " 13  Maximum Open Credit        89593 non-null  float64\n",
      " 14  Bankruptcies               89593 non-null  float64\n",
      " 15  Tax Liens                  89593 non-null  float64\n",
      "dtypes: float64(11), object(5)\n",
      "memory usage: 11.6+ MB\n"
     ]
    }
   ],
   "source": [
    "#All duplicates removed, null rows, null values have been removed or imputed\n",
    "credit_train.info()"
   ]
  },
  {
   "cell_type": "markdown",
   "id": "ff927023",
   "metadata": {},
   "source": [
    "# Analysis of Dtype Object"
   ]
  },
  {
   "cell_type": "code",
   "execution_count": 25,
   "id": "07f8a061",
   "metadata": {},
   "outputs": [
    {
     "data": {
      "text/plain": [
       "<AxesSubplot:xlabel='Term', ylabel='count'>"
      ]
     },
     "execution_count": 25,
     "metadata": {},
     "output_type": "execute_result"
    },
    {
     "data": {
      "image/png": "[encoded data removed]",
      "text/plain": [
       "<Figure size 720x576 with 1 Axes>"
      ]
     },
     "metadata": {
      "needs_background": "light"
     },
     "output_type": "display_data"
    }
   ],
   "source": [
    "plt.figure(figsize=(10,8))\n",
    "sns.countplot(credit_train['Term'])\n",
    "#Most of the loan term were short term rather than long term"
   ]
  },
  {
   "cell_type": "code",
   "execution_count": 26,
   "id": "0f68df16",
   "metadata": {},
   "outputs": [
    {
     "data": {
      "text/plain": [
       "<AxesSubplot:xlabel='Home Ownership', ylabel='count'>"
      ]
     },
     "execution_count": 26,
     "metadata": {},
     "output_type": "execute_result"
    },
    {
     "data": {
      "image/png": "[encoded data removed]",
      "text/plain": [
       "<Figure size 720x576 with 1 Axes>"
      ]
     },
     "metadata": {
      "needs_background": "light"
     },
     "output_type": "display_data"
    }
   ],
   "source": [
    "plt.figure(figsize=(10,8))\n",
    "sns.countplot(credit_train['Home Ownership'])"
   ]
  },
  {
   "cell_type": "code",
   "execution_count": 27,
   "id": "331a7363",
   "metadata": {},
   "outputs": [
    {
     "data": {
      "text/plain": [
       "Home Ownership\n",
       "HaveMortgage       182\n",
       "Home Mortgage    43479\n",
       "Own Home          8182\n",
       "Rent             37750\n",
       "dtype: int64"
      ]
     },
     "execution_count": 27,
     "metadata": {},
     "output_type": "execute_result"
    }
   ],
   "source": [
    "#Before merging Home Mortgage and HaveMortgage\n",
    "Before_Merge = credit_train.groupby(['Home Ownership']).size()\n",
    "Before_Merge"
   ]
  },
  {
   "cell_type": "code",
   "execution_count": 28,
   "id": "864b3842",
   "metadata": {},
   "outputs": [
    {
     "data": {
      "text/plain": [
       "<AxesSubplot:xlabel='Home Ownership', ylabel='count'>"
      ]
     },
     "execution_count": 28,
     "metadata": {},
     "output_type": "execute_result"
    },
    {
     "data": {
      "image/png": "[encoded data removed]",
      "text/plain": [
       "<Figure size 720x576 with 1 Axes>"
      ]
     },
     "metadata": {
      "needs_background": "light"
     },
     "output_type": "display_data"
    }
   ],
   "source": [
    "#To merge have mortgage and home mortgage columns together\n",
    "credit_train.loc[credit_train['Home Ownership'] == 'HaveMortgage', 'Home Ownership'] = 'Home Mortgage'\n",
    "plt.figure(figsize=(10,8))\n",
    "sns.countplot(credit_train['Home Ownership'])"
   ]
  },
  {
   "cell_type": "code",
   "execution_count": 29,
   "id": "bf609569",
   "metadata": {},
   "outputs": [
    {
     "data": {
      "text/plain": [
       "Home Ownership\n",
       "Home Mortgage    43661\n",
       "Own Home          8182\n",
       "Rent             37750\n",
       "dtype: int64"
      ]
     },
     "execution_count": 29,
     "metadata": {},
     "output_type": "execute_result"
    }
   ],
   "source": [
    "#To check after merging\n",
    "After_Merge = credit_train.groupby(['Home Ownership']).size()\n",
    "After_Merge\n",
    "#Most customers took home mortgage and homes were rented rather than owning their own homes."
   ]
  },
  {
   "cell_type": "code",
   "execution_count": 30,
   "id": "68d74464",
   "metadata": {},
   "outputs": [
    {
     "data": {
      "text/plain": [
       "<AxesSubplot:xlabel='Purpose', ylabel='count'>"
      ]
     },
     "execution_count": 30,
     "metadata": {},
     "output_type": "execute_result"
    },
    {
     "data": {
      "image/png": "[encoded data removed]",
      "text/plain": [
       "<Figure size 2160x720 with 1 Axes>"
      ]
     },
     "metadata": {
      "needs_background": "light"
     },
     "output_type": "display_data"
    }
   ],
   "source": [
    "plt.figure(figsize=(30,10))\n",
    "sns.countplot(credit_train['Purpose'])"
   ]
  },
  {
   "cell_type": "code",
   "execution_count": 31,
   "id": "94e39c46",
   "metadata": {},
   "outputs": [
    {
     "data": {
      "text/plain": [
       "Purpose\n",
       "Business Loan            1352\n",
       "Buy House                 582\n",
       "Buy a Car                1160\n",
       "Debt Consolidation      70724\n",
       "Educational Expenses       85\n",
       "Home Improvements        5226\n",
       "Medical Bills             980\n",
       "Other                    2874\n",
       "Take a Trip               487\n",
       "major_purchase            330\n",
       "moving                    135\n",
       "other                    5210\n",
       "renewable_energy            8\n",
       "small_business            249\n",
       "vacation                   89\n",
       "wedding                   102\n",
       "dtype: int64"
      ]
     },
     "execution_count": 31,
     "metadata": {},
     "output_type": "execute_result"
    }
   ],
   "source": [
    "#To take a look at the purposes before merging\n",
    "Before_Merge = credit_train.groupby(['Purpose']).size()\n",
    "Before_Merge"
   ]
  },
  {
   "cell_type": "code",
   "execution_count": 32,
   "id": "7765574d",
   "metadata": {},
   "outputs": [
    {
     "data": {
      "text/plain": [
       "<AxesSubplot:xlabel='Purpose', ylabel='count'>"
      ]
     },
     "execution_count": 32,
     "metadata": {},
     "output_type": "execute_result"
    },
    {
     "data": {
      "image/png": "[encoded data removed]",
      "text/plain": [
       "<Figure size 720x576 with 1 Axes>"
      ]
     },
     "metadata": {
      "needs_background": "light"
     },
     "output_type": "display_data"
    }
   ],
   "source": [
    "#To merge all other columns into Other, with the exception of Debt Consolidation and Home Improvements\n",
    "y = ['Business Loan', 'Buy House', 'Buy a Car', 'Educational Expenses', 'Medical Bills', 'Take a Trip', 'major_purchase', 'moving', 'other', 'renewable_energy', 'small_business', 'vacation', 'wedding']\n",
    "for x in y:\n",
    "    credit_train.loc[credit_train['Purpose'] == x, 'Purpose'] = 'Other'\n",
    "\n",
    "#Plot figure again\n",
    "plt.figure(figsize=(10,8))\n",
    "sns.countplot(credit_train['Purpose'])"
   ]
  },
  {
   "cell_type": "code",
   "execution_count": 33,
   "id": "95d9d95b",
   "metadata": {},
   "outputs": [
    {
     "data": {
      "text/plain": [
       "Purpose\n",
       "Debt Consolidation    70724\n",
       "Home Improvements      5226\n",
       "Other                 13643\n",
       "dtype: int64"
      ]
     },
     "execution_count": 33,
     "metadata": {},
     "output_type": "execute_result"
    }
   ],
   "source": [
    "#Check the Purpose column\n",
    "After_Merge = credit_train.groupby(['Purpose']).size()\n",
    "After_Merge\n",
    "#A large proportion of the loan purpose was for debt consolidation and others"
   ]
  },
  {
   "cell_type": "code",
   "execution_count": 34,
   "id": "e2e0c813",
   "metadata": {},
   "outputs": [
    {
     "data": {
      "text/plain": [
       "<AxesSubplot:xlabel='Loan Status', ylabel='count'>"
      ]
     },
     "execution_count": 34,
     "metadata": {},
     "output_type": "execute_result"
    },
    {
     "data": {
      "image/png": "[encoded data removed]",
      "text/plain": [
       "<Figure size 720x576 with 1 Axes>"
      ]
     },
     "metadata": {
      "needs_background": "light"
     },
     "output_type": "display_data"
    }
   ],
   "source": [
    "plt.figure(figsize=(10,8))\n",
    "sns.countplot(credit_train['Loan Status'])\n",
    "#Most of the loan status were fully paid rather than charged off"
   ]
  },
  {
   "cell_type": "code",
   "execution_count": 35,
   "id": "c85e09bf",
   "metadata": {},
   "outputs": [
    {
     "data": {
      "text/plain": [
       "<AxesSubplot:xlabel='Years in current job', ylabel='count'>"
      ]
     },
     "execution_count": 35,
     "metadata": {},
     "output_type": "execute_result"
    },
    {
     "data": {
      "image/png": "[encoded data removed]",
      "text/plain": [
       "<Figure size 720x576 with 1 Axes>"
      ]
     },
     "metadata": {
      "needs_background": "light"
     },
     "output_type": "display_data"
    }
   ],
   "source": [
    "plt.figure(figsize=(10,8))\n",
    "sns.countplot(credit_train['Years in current job'])"
   ]
  },
  {
   "cell_type": "code",
   "execution_count": 36,
   "id": "5fd9cb97",
   "metadata": {},
   "outputs": [
    {
     "data": {
      "text/plain": [
       "Years in current job\n",
       "1 year        5808\n",
       "10+ years    31528\n",
       "2 years       8227\n",
       "3 years       7321\n",
       "4 years       5500\n",
       "5 years       6128\n",
       "6 years       5125\n",
       "7 years       4986\n",
       "8 years       4110\n",
       "9 years       3543\n",
       "< 1 year      7317\n",
       "dtype: int64"
      ]
     },
     "execution_count": 36,
     "metadata": {},
     "output_type": "execute_result"
    }
   ],
   "source": [
    "#To take a look at the years in current job before merging\n",
    "Before_Merge = credit_train.groupby(['Years in current job']).size()\n",
    "Before_Merge"
   ]
  },
  {
   "cell_type": "code",
   "execution_count": 37,
   "id": "3de7dea2",
   "metadata": {},
   "outputs": [
    {
     "data": {
      "text/plain": [
       "<AxesSubplot:xlabel='Years in current job', ylabel='count'>"
      ]
     },
     "execution_count": 37,
     "metadata": {},
     "output_type": "execute_result"
    },
    {
     "data": {
      "image/png": "[encoded data removed]",
      "text/plain": [
       "<Figure size 720x576 with 1 Axes>"
      ]
     },
     "metadata": {
      "needs_background": "light"
     },
     "output_type": "display_data"
    }
   ],
   "source": [
    "#To merge into < = 5 years, < = 9 years and keep 10+ years\n",
    "b = ['< 1 year', '1 year', '2 years', '3 years', '4 years', '5 years']\n",
    "for a in b:\n",
    "    credit_train.loc[credit_train['Years in current job'] == a, 'Years in current job'] = '5 years'\n",
    "\n",
    "d = ['6 years', '7 years', '8 years', '9 years']\n",
    "for c in d:\n",
    "    credit_train.loc[credit_train['Years in current job'] == c, 'Years in current job'] = '9 years'\n",
    "\n",
    "#plot figure again\n",
    "plt.figure(figsize=(10,8))\n",
    "sns.countplot(credit_train['Years in current job'])"
   ]
  },
  {
   "cell_type": "code",
   "execution_count": 38,
   "id": "95b2e52d",
   "metadata": {},
   "outputs": [
    {
     "data": {
      "text/plain": [
       "Years in current job\n",
       "10+ years    31528\n",
       "5 years      40301\n",
       "9 years      17764\n",
       "dtype: int64"
      ]
     },
     "execution_count": 38,
     "metadata": {},
     "output_type": "execute_result"
    }
   ],
   "source": [
    "After_Merge = credit_train.groupby(['Years in current job']).size()\n",
    "After_Merge\n",
    "#Highest count is 0-5 years, followed by 10+ years and then 6-9 years for years in current job"
   ]
  },
  {
   "cell_type": "markdown",
   "id": "800b127d",
   "metadata": {},
   "source": [
    "# Analysis of Dtype Float"
   ]
  },
  {
   "cell_type": "code",
   "execution_count": 39,
   "id": "a49d24f4",
   "metadata": {},
   "outputs": [
    {
     "data": {
      "text/html": [
       "<div>\n",
       "<style scoped>\n",
       "    .dataframe tbody tr th:only-of-type {\n",
       "        vertical-align: middle;\n",
       "    }\n",
       "\n",
       "    .dataframe tbody tr th {\n",
       "        vertical-align: top;\n",
       "    }\n",
       "\n",
       "    .dataframe thead th {\n",
       "        text-align: right;\n",
       "    }\n",
       "</style>\n",
       "<table border=\"1\" class=\"dataframe\">\n",
       "  <thead>\n",
       "    <tr style=\"text-align: right;\">\n",
       "      <th></th>\n",
       "      <th>Current Loan Amount</th>\n",
       "      <th>Credit Score</th>\n",
       "      <th>Annual Income</th>\n",
       "      <th>Monthly Debt</th>\n",
       "      <th>Years of Credit History</th>\n",
       "      <th>Number of Open Accounts</th>\n",
       "      <th>Number of Credit Problems</th>\n",
       "      <th>Current Credit Balance</th>\n",
       "      <th>Maximum Open Credit</th>\n",
       "      <th>Bankruptcies</th>\n",
       "      <th>Tax Liens</th>\n",
       "    </tr>\n",
       "  </thead>\n",
       "  <tbody>\n",
       "    <tr>\n",
       "      <th>count</th>\n",
       "      <td>8.959300e+04</td>\n",
       "      <td>89593.000000</td>\n",
       "      <td>8.959300e+04</td>\n",
       "      <td>89593.000000</td>\n",
       "      <td>89593.000000</td>\n",
       "      <td>89593.000000</td>\n",
       "      <td>89593.000000</td>\n",
       "      <td>8.959300e+04</td>\n",
       "      <td>8.959300e+04</td>\n",
       "      <td>89593.000000</td>\n",
       "      <td>89593.000000</td>\n",
       "    </tr>\n",
       "    <tr>\n",
       "      <th>mean</th>\n",
       "      <td>1.305835e+07</td>\n",
       "      <td>1044.986227</td>\n",
       "      <td>1.331976e+06</td>\n",
       "      <td>18411.806653</td>\n",
       "      <td>18.242999</td>\n",
       "      <td>11.125735</td>\n",
       "      <td>0.165247</td>\n",
       "      <td>2.940685e+05</td>\n",
       "      <td>7.720317e+05</td>\n",
       "      <td>0.115534</td>\n",
       "      <td>0.028663</td>\n",
       "    </tr>\n",
       "    <tr>\n",
       "      <th>std</th>\n",
       "      <td>3.329246e+07</td>\n",
       "      <td>1402.833922</td>\n",
       "      <td>9.831257e+05</td>\n",
       "      <td>12142.347469</td>\n",
       "      <td>7.034235</td>\n",
       "      <td>4.996396</td>\n",
       "      <td>0.478399</td>\n",
       "      <td>3.720957e+05</td>\n",
       "      <td>8.766674e+06</td>\n",
       "      <td>0.347922</td>\n",
       "      <td>0.255365</td>\n",
       "    </tr>\n",
       "    <tr>\n",
       "      <th>min</th>\n",
       "      <td>1.542200e+04</td>\n",
       "      <td>585.000000</td>\n",
       "      <td>7.662700e+04</td>\n",
       "      <td>0.000000</td>\n",
       "      <td>3.600000</td>\n",
       "      <td>0.000000</td>\n",
       "      <td>0.000000</td>\n",
       "      <td>0.000000e+00</td>\n",
       "      <td>0.000000e+00</td>\n",
       "      <td>0.000000</td>\n",
       "      <td>0.000000</td>\n",
       "    </tr>\n",
       "    <tr>\n",
       "      <th>25%</th>\n",
       "      <td>1.803340e+05</td>\n",
       "      <td>715.000000</td>\n",
       "      <td>9.382200e+05</td>\n",
       "      <td>10176.970000</td>\n",
       "      <td>13.500000</td>\n",
       "      <td>8.000000</td>\n",
       "      <td>0.000000</td>\n",
       "      <td>1.130310e+05</td>\n",
       "      <td>2.771340e+05</td>\n",
       "      <td>0.000000</td>\n",
       "      <td>0.000000</td>\n",
       "    </tr>\n",
       "    <tr>\n",
       "      <th>50%</th>\n",
       "      <td>3.140940e+05</td>\n",
       "      <td>729.000000</td>\n",
       "      <td>1.169773e+06</td>\n",
       "      <td>16149.810000</td>\n",
       "      <td>17.000000</td>\n",
       "      <td>10.000000</td>\n",
       "      <td>0.000000</td>\n",
       "      <td>2.098550e+05</td>\n",
       "      <td>4.726700e+05</td>\n",
       "      <td>0.000000</td>\n",
       "      <td>0.000000</td>\n",
       "    </tr>\n",
       "    <tr>\n",
       "      <th>75%</th>\n",
       "      <td>5.326420e+05</td>\n",
       "      <td>739.000000</td>\n",
       "      <td>1.495984e+06</td>\n",
       "      <td>23932.400000</td>\n",
       "      <td>21.700000</td>\n",
       "      <td>14.000000</td>\n",
       "      <td>0.000000</td>\n",
       "      <td>3.676880e+05</td>\n",
       "      <td>7.913620e+05</td>\n",
       "      <td>0.000000</td>\n",
       "      <td>0.000000</td>\n",
       "    </tr>\n",
       "    <tr>\n",
       "      <th>max</th>\n",
       "      <td>1.000000e+08</td>\n",
       "      <td>7510.000000</td>\n",
       "      <td>1.655574e+08</td>\n",
       "      <td>435843.280000</td>\n",
       "      <td>70.500000</td>\n",
       "      <td>76.000000</td>\n",
       "      <td>15.000000</td>\n",
       "      <td>3.287897e+07</td>\n",
       "      <td>1.539738e+09</td>\n",
       "      <td>7.000000</td>\n",
       "      <td>15.000000</td>\n",
       "    </tr>\n",
       "  </tbody>\n",
       "</table>\n",
       "</div>"
      ],
      "text/plain": [
       "       Current Loan Amount  Credit Score  Annual Income   Monthly Debt  \\\n",
       "count         8.959300e+04  89593.000000   8.959300e+04   89593.000000   \n",
       "mean          1.305835e+07   1044.986227   1.331976e+06   18411.806653   \n",
       "std           3.329246e+07   1402.833922   9.831257e+05   12142.347469   \n",
       "min           1.542200e+04    585.000000   7.662700e+04       0.000000   \n",
       "25%           1.803340e+05    715.000000   9.382200e+05   10176.970000   \n",
       "50%           3.140940e+05    729.000000   1.169773e+06   16149.810000   \n",
       "75%           5.326420e+05    739.000000   1.495984e+06   23932.400000   \n",
       "max           1.000000e+08   7510.000000   1.655574e+08  435843.280000   \n",
       "\n",
       "       Years of Credit History  Number of Open Accounts  \\\n",
       "count             89593.000000             89593.000000   \n",
       "mean                 18.242999                11.125735   \n",
       "std                   7.034235                 4.996396   \n",
       "min                   3.600000                 0.000000   \n",
       "25%                  13.500000                 8.000000   \n",
       "50%                  17.000000                10.000000   \n",
       "75%                  21.700000                14.000000   \n",
       "max                  70.500000                76.000000   \n",
       "\n",
       "       Number of Credit Problems  Current Credit Balance  Maximum Open Credit  \\\n",
       "count               89593.000000            8.959300e+04         8.959300e+04   \n",
       "mean                    0.165247            2.940685e+05         7.720317e+05   \n",
       "std                     0.478399            3.720957e+05         8.766674e+06   \n",
       "min                     0.000000            0.000000e+00         0.000000e+00   \n",
       "25%                     0.000000            1.130310e+05         2.771340e+05   \n",
       "50%                     0.000000            2.098550e+05         4.726700e+05   \n",
       "75%                     0.000000            3.676880e+05         7.913620e+05   \n",
       "max                    15.000000            3.287897e+07         1.539738e+09   \n",
       "\n",
       "       Bankruptcies     Tax Liens  \n",
       "count  89593.000000  89593.000000  \n",
       "mean       0.115534      0.028663  \n",
       "std        0.347922      0.255365  \n",
       "min        0.000000      0.000000  \n",
       "25%        0.000000      0.000000  \n",
       "50%        0.000000      0.000000  \n",
       "75%        0.000000      0.000000  \n",
       "max        7.000000     15.000000  "
      ]
     },
     "execution_count": 39,
     "metadata": {},
     "output_type": "execute_result"
    }
   ],
   "source": [
    "credit_train.describe()"
   ]
  },
  {
   "cell_type": "code",
   "execution_count": 40,
   "id": "7f472090",
   "metadata": {},
   "outputs": [
    {
     "data": {
      "text/plain": [
       "<AxesSubplot:xlabel='Current Loan Amount', ylabel='Density'>"
      ]
     },
     "execution_count": 40,
     "metadata": {},
     "output_type": "execute_result"
    },
    {
     "data": {
      "image/png": "[encoded data removed]",
      "text/plain": [
       "<Figure size 432x288 with 1 Axes>"
      ]
     },
     "metadata": {
      "needs_background": "light"
     },
     "output_type": "display_data"
    }
   ],
   "source": [
    "sns.distplot(credit_train['Current Loan Amount'], bins=12)\n",
    "#Large range of loan amount, with the greatest concentration at $(10**5)\n",
    "#Notice there is also another peak around the $(10**8) amount."
   ]
  },
  {
   "cell_type": "code",
   "execution_count": 41,
   "id": "71922ec1",
   "metadata": {},
   "outputs": [
    {
     "data": {
      "text/plain": [
       "<AxesSubplot:xlabel='Credit Score', ylabel='Density'>"
      ]
     },
     "execution_count": 41,
     "metadata": {},
     "output_type": "execute_result"
    },
    {
     "data": {
      "image/png": "[encoded data removed]",
      "text/plain": [
       "<Figure size 432x288 with 1 Axes>"
      ]
     },
     "metadata": {
      "needs_background": "light"
     },
     "output_type": "display_data"
    }
   ],
   "source": [
    "sns.distplot(credit_train['Credit Score'], bins=12)\n",
    "#Majority of credit scores between 0-1000\n",
    "#Another peak spotted ard 7000-8000 credit score range."
   ]
  },
  {
   "cell_type": "code",
   "execution_count": 42,
   "id": "5155b7b0",
   "metadata": {},
   "outputs": [
    {
     "data": {
      "text/plain": [
       "<AxesSubplot:xlabel='Annual Income', ylabel='Density'>"
      ]
     },
     "execution_count": 42,
     "metadata": {},
     "output_type": "execute_result"
    },
    {
     "data": {
      "image/png": "[encoded data removed]",
      "text/plain": [
       "<Figure size 432x288 with 1 Axes>"
      ]
     },
     "metadata": {
      "needs_background": "light"
     },
     "output_type": "display_data"
    }
   ],
   "source": [
    "sns.distplot(credit_train['Annual Income'], bins=12)\n",
    "#Large range of annual income of customers, with majority falling in the $(10**5 to 10**6) range."
   ]
  },
  {
   "cell_type": "code",
   "execution_count": 43,
   "id": "59ea41ef",
   "metadata": {},
   "outputs": [
    {
     "data": {
      "text/plain": [
       "<AxesSubplot:xlabel='Monthly Debt', ylabel='Density'>"
      ]
     },
     "execution_count": 43,
     "metadata": {},
     "output_type": "execute_result"
    },
    {
     "data": {
      "image/png": "[encoded data removed]",
      "text/plain": [
       "<Figure size 432x288 with 1 Axes>"
      ]
     },
     "metadata": {
      "needs_background": "light"
     },
     "output_type": "display_data"
    }
   ],
   "source": [
    "sns.distplot(credit_train['Monthly Debt'], bins=12)\n",
    "#Ranges from $0-$40+K"
   ]
  },
  {
   "cell_type": "code",
   "execution_count": 44,
   "id": "ca30e0dd",
   "metadata": {},
   "outputs": [
    {
     "data": {
      "text/plain": [
       "<AxesSubplot:xlabel='Years of Credit History', ylabel='Density'>"
      ]
     },
     "execution_count": 44,
     "metadata": {},
     "output_type": "execute_result"
    },
    {
     "data": {
      "image/png": "[encoded data removed]",
      "text/plain": [
       "<Figure size 432x288 with 1 Axes>"
      ]
     },
     "metadata": {
      "needs_background": "light"
     },
     "output_type": "display_data"
    }
   ],
   "source": [
    "sns.distplot(credit_train['Years of Credit History'], bins=12)\n",
    "#Majority of customers have between 0-40 years of credit history"
   ]
  },
  {
   "cell_type": "code",
   "execution_count": 45,
   "id": "e9212915",
   "metadata": {},
   "outputs": [
    {
     "data": {
      "text/plain": [
       "<AxesSubplot:xlabel='Number of Open Accounts', ylabel='Density'>"
      ]
     },
     "execution_count": 45,
     "metadata": {},
     "output_type": "execute_result"
    },
    {
     "data": {
      "image/png": "[encoded data removed]",
      "text/plain": [
       "<Figure size 432x288 with 1 Axes>"
      ]
     },
     "metadata": {
      "needs_background": "light"
     },
     "output_type": "display_data"
    }
   ],
   "source": [
    "sns.distplot(credit_train['Number of Open Accounts'], bins=12)\n",
    "#majority of customers have between 0-30 open accounts"
   ]
  },
  {
   "cell_type": "code",
   "execution_count": 46,
   "id": "a11c48a7",
   "metadata": {},
   "outputs": [
    {
     "data": {
      "text/plain": [
       "<AxesSubplot:xlabel='Number of Credit Problems', ylabel='Density'>"
      ]
     },
     "execution_count": 46,
     "metadata": {},
     "output_type": "execute_result"
    },
    {
     "data": {
      "image/png": "[encoded data removed]",
      "text/plain": [
       "<Figure size 432x288 with 1 Axes>"
      ]
     },
     "metadata": {
      "needs_background": "light"
     },
     "output_type": "display_data"
    }
   ],
   "source": [
    "sns.distplot(credit_train['Number of Credit Problems'], bins=12)\n",
    "#Majority of customers do not have credit problems but number ranges from 0-15"
   ]
  },
  {
   "cell_type": "code",
   "execution_count": 47,
   "id": "3601003a",
   "metadata": {},
   "outputs": [
    {
     "data": {
      "text/plain": [
       "<AxesSubplot:xlabel='Current Credit Balance', ylabel='Density'>"
      ]
     },
     "execution_count": 47,
     "metadata": {},
     "output_type": "execute_result"
    },
    {
     "data": {
      "image/png": "[encoded data removed]",
      "text/plain": [
       "<Figure size 432x288 with 1 Axes>"
      ]
     },
     "metadata": {
      "needs_background": "light"
     },
     "output_type": "display_data"
    }
   ],
   "source": [
    "sns.distplot(credit_train['Current Credit Balance'], bins=12)\n",
    "#Ranges from $(10**5 to 10**7) with majority at $10**5"
   ]
  },
  {
   "cell_type": "code",
   "execution_count": 48,
   "id": "e7189ed5",
   "metadata": {},
   "outputs": [
    {
     "data": {
      "text/plain": [
       "<AxesSubplot:xlabel='Maximum Open Credit', ylabel='Density'>"
      ]
     },
     "execution_count": 48,
     "metadata": {},
     "output_type": "execute_result"
    },
    {
     "data": {
      "image/png": "[encoded data removed]",
      "text/plain": [
       "<Figure size 432x288 with 1 Axes>"
      ]
     },
     "metadata": {
      "needs_background": "light"
     },
     "output_type": "display_data"
    }
   ],
   "source": [
    "sns.distplot(credit_train['Maximum Open Credit'], bins=12)\n",
    "#Ranges from $(10**5 to 10**9) with majority at $10**5"
   ]
  },
  {
   "cell_type": "code",
   "execution_count": 49,
   "id": "867554d3",
   "metadata": {},
   "outputs": [
    {
     "data": {
      "text/plain": [
       "<AxesSubplot:xlabel='Bankruptcies', ylabel='Density'>"
      ]
     },
     "execution_count": 49,
     "metadata": {},
     "output_type": "execute_result"
    },
    {
     "data": {
      "image/png": "[encoded data removed]",
      "text/plain": [
       "<Figure size 432x288 with 1 Axes>"
      ]
     },
     "metadata": {
      "needs_background": "light"
     },
     "output_type": "display_data"
    }
   ],
   "source": [
    "sns.distplot(credit_train['Bankruptcies'], bins=12)\n",
    "#Majority of customers were not bankrupt before, but the value for each customer ranges from 0-7 "
   ]
  },
  {
   "cell_type": "code",
   "execution_count": 50,
   "id": "7520ac61",
   "metadata": {},
   "outputs": [
    {
     "data": {
      "text/plain": [
       "<AxesSubplot:xlabel='Tax Liens', ylabel='Density'>"
      ]
     },
     "execution_count": 50,
     "metadata": {},
     "output_type": "execute_result"
    },
    {
     "data": {
      "image/png": "[encoded data removed]",
      "text/plain": [
       "<Figure size 432x288 with 1 Axes>"
      ]
     },
     "metadata": {
      "needs_background": "light"
     },
     "output_type": "display_data"
    }
   ],
   "source": [
    "sns.distplot(credit_train['Tax Liens'], bins=12)\n",
    "#Majority of customers do not have tax liens but number ranges from 0-15 per customer"
   ]
  },
  {
   "cell_type": "markdown",
   "id": "bf7653a3",
   "metadata": {},
   "source": [
    "# Map the String Type Data to Numerical Value for Model Training"
   ]
  },
  {
   "cell_type": "code",
   "execution_count": 51,
   "id": "eaa10bce",
   "metadata": {},
   "outputs": [
    {
     "name": "stdout",
     "output_type": "stream",
     "text": [
      "<class 'pandas.core.frame.DataFrame'>\n",
      "Int64Index: 89593 entries, 0 to 99999\n",
      "Data columns (total 16 columns):\n",
      " #   Column                     Non-Null Count  Dtype  \n",
      "---  ------                     --------------  -----  \n",
      " 0   Loan Status                89593 non-null  int64  \n",
      " 1   Current Loan Amount        89593 non-null  float64\n",
      " 2   Term                       89593 non-null  int64  \n",
      " 3   Credit Score               89593 non-null  float64\n",
      " 4   Annual Income              89593 non-null  float64\n",
      " 5   Years in current job       89593 non-null  int64  \n",
      " 6   Home Ownership             89593 non-null  int64  \n",
      " 7   Purpose                    89593 non-null  int64  \n",
      " 8   Monthly Debt               89593 non-null  float64\n",
      " 9   Years of Credit History    89593 non-null  float64\n",
      " 10  Number of Open Accounts    89593 non-null  float64\n",
      " 11  Number of Credit Problems  89593 non-null  float64\n",
      " 12  Current Credit Balance     89593 non-null  float64\n",
      " 13  Maximum Open Credit        89593 non-null  float64\n",
      " 14  Bankruptcies               89593 non-null  float64\n",
      " 15  Tax Liens                  89593 non-null  float64\n",
      "dtypes: float64(11), int64(5)\n",
      "memory usage: 11.6 MB\n"
     ]
    }
   ],
   "source": [
    "Term_map = {'Short Term':0, 'Long Term':1}\n",
    "Home_Ownership_map = {'Home Mortgage':0, 'Rent':1, 'Own Home':2}\n",
    "Purpose_map = {'Debt Consolidation':0, 'Other':1, 'Home Improvements':2}\n",
    "Loan_Status_map = {'Fully Paid':0, 'Charged Off':1}\n",
    "Years_in_current_job_map = {'5 years':0, '10+ years':1, '9 years':2}\n",
    "\n",
    "credit_train_map = credit_train.copy()\n",
    "\n",
    "credit_train_map[\"Term\"] = credit_train[\"Term\"].map(Term_map)\n",
    "credit_train_map[\"Home Ownership\"] = credit_train[\"Home Ownership\"].map(Home_Ownership_map)\n",
    "credit_train_map[\"Purpose\"] = credit_train[\"Purpose\"].map(Purpose_map)\n",
    "credit_train_map[\"Loan Status\"] = credit_train[\"Loan Status\"].map(Loan_Status_map)\n",
    "credit_train_map[\"Years in current job\"] = credit_train[\"Years in current job\"].map(Years_in_current_job_map)\n",
    "\n",
    "credit_train_map.info()"
   ]
  },
  {
   "cell_type": "markdown",
   "id": "b48a214d",
   "metadata": {},
   "source": [
    "# Correlation"
   ]
  },
  {
   "cell_type": "code",
   "execution_count": 52,
   "id": "e896e9fb",
   "metadata": {},
   "outputs": [
    {
     "data": {
      "text/html": [
       "<div>\n",
       "<style scoped>\n",
       "    .dataframe tbody tr th:only-of-type {\n",
       "        vertical-align: middle;\n",
       "    }\n",
       "\n",
       "    .dataframe tbody tr th {\n",
       "        vertical-align: top;\n",
       "    }\n",
       "\n",
       "    .dataframe thead th {\n",
       "        text-align: right;\n",
       "    }\n",
       "</style>\n",
       "<table border=\"1\" class=\"dataframe\">\n",
       "  <thead>\n",
       "    <tr style=\"text-align: right;\">\n",
       "      <th></th>\n",
       "      <th>Loan Status</th>\n",
       "      <th>Current Loan Amount</th>\n",
       "      <th>Term</th>\n",
       "      <th>Credit Score</th>\n",
       "      <th>Annual Income</th>\n",
       "      <th>Years in current job</th>\n",
       "      <th>Home Ownership</th>\n",
       "      <th>Purpose</th>\n",
       "      <th>Monthly Debt</th>\n",
       "      <th>Years of Credit History</th>\n",
       "      <th>Number of Open Accounts</th>\n",
       "      <th>Number of Credit Problems</th>\n",
       "      <th>Current Credit Balance</th>\n",
       "      <th>Maximum Open Credit</th>\n",
       "      <th>Bankruptcies</th>\n",
       "      <th>Tax Liens</th>\n",
       "    </tr>\n",
       "  </thead>\n",
       "  <tbody>\n",
       "    <tr>\n",
       "      <th>Loan Status</th>\n",
       "      <td>1.000000</td>\n",
       "      <td>-0.222058</td>\n",
       "      <td>0.138317</td>\n",
       "      <td>0.395577</td>\n",
       "      <td>-0.051713</td>\n",
       "      <td>0.009134</td>\n",
       "      <td>0.044188</td>\n",
       "      <td>-0.009806</td>\n",
       "      <td>0.012187</td>\n",
       "      <td>-0.029387</td>\n",
       "      <td>0.013690</td>\n",
       "      <td>0.006585</td>\n",
       "      <td>-0.009201</td>\n",
       "      <td>-0.009359</td>\n",
       "      <td>-0.003440</td>\n",
       "      <td>0.012742</td>\n",
       "    </tr>\n",
       "    <tr>\n",
       "      <th>Current Loan Amount</th>\n",
       "      <td>-0.222058</td>\n",
       "      <td>1.000000</td>\n",
       "      <td>-0.052592</td>\n",
       "      <td>-0.087037</td>\n",
       "      <td>0.031509</td>\n",
       "      <td>-0.003581</td>\n",
       "      <td>-0.009713</td>\n",
       "      <td>0.002760</td>\n",
       "      <td>-0.004982</td>\n",
       "      <td>0.017662</td>\n",
       "      <td>0.002009</td>\n",
       "      <td>-0.000309</td>\n",
       "      <td>0.004634</td>\n",
       "      <td>-0.001799</td>\n",
       "      <td>0.001856</td>\n",
       "      <td>-0.001136</td>\n",
       "    </tr>\n",
       "    <tr>\n",
       "      <th>Term</th>\n",
       "      <td>0.138317</td>\n",
       "      <td>-0.052592</td>\n",
       "      <td>1.000000</td>\n",
       "      <td>0.045816</td>\n",
       "      <td>0.070690</td>\n",
       "      <td>0.037998</td>\n",
       "      <td>-0.085340</td>\n",
       "      <td>-0.022429</td>\n",
       "      <td>0.152292</td>\n",
       "      <td>0.037985</td>\n",
       "      <td>0.078560</td>\n",
       "      <td>-0.024502</td>\n",
       "      <td>0.101034</td>\n",
       "      <td>0.008533</td>\n",
       "      <td>-0.027202</td>\n",
       "      <td>-0.002385</td>\n",
       "    </tr>\n",
       "    <tr>\n",
       "      <th>Credit Score</th>\n",
       "      <td>0.395577</td>\n",
       "      <td>-0.087037</td>\n",
       "      <td>0.045816</td>\n",
       "      <td>1.000000</td>\n",
       "      <td>-0.006904</td>\n",
       "      <td>0.005384</td>\n",
       "      <td>0.016875</td>\n",
       "      <td>-0.012029</td>\n",
       "      <td>0.000814</td>\n",
       "      <td>-0.011307</td>\n",
       "      <td>0.007060</td>\n",
       "      <td>-0.000435</td>\n",
       "      <td>0.000893</td>\n",
       "      <td>-0.003071</td>\n",
       "      <td>-0.004414</td>\n",
       "      <td>0.006403</td>\n",
       "    </tr>\n",
       "    <tr>\n",
       "      <th>Annual Income</th>\n",
       "      <td>-0.051713</td>\n",
       "      <td>0.031509</td>\n",
       "      <td>0.070690</td>\n",
       "      <td>-0.006904</td>\n",
       "      <td>1.000000</td>\n",
       "      <td>0.029769</td>\n",
       "      <td>-0.132823</td>\n",
       "      <td>0.042092</td>\n",
       "      <td>0.419778</td>\n",
       "      <td>0.137466</td>\n",
       "      <td>0.126303</td>\n",
       "      <td>-0.014594</td>\n",
       "      <td>0.269139</td>\n",
       "      <td>0.033759</td>\n",
       "      <td>-0.041459</td>\n",
       "      <td>0.036223</td>\n",
       "    </tr>\n",
       "    <tr>\n",
       "      <th>Years in current job</th>\n",
       "      <td>0.009134</td>\n",
       "      <td>-0.003581</td>\n",
       "      <td>0.037998</td>\n",
       "      <td>0.005384</td>\n",
       "      <td>0.029769</td>\n",
       "      <td>1.000000</td>\n",
       "      <td>-0.093724</td>\n",
       "      <td>-0.016192</td>\n",
       "      <td>0.071220</td>\n",
       "      <td>0.118460</td>\n",
       "      <td>0.032702</td>\n",
       "      <td>0.032467</td>\n",
       "      <td>0.049947</td>\n",
       "      <td>-0.002506</td>\n",
       "      <td>0.032292</td>\n",
       "      <td>0.010630</td>\n",
       "    </tr>\n",
       "    <tr>\n",
       "      <th>Home Ownership</th>\n",
       "      <td>0.044188</td>\n",
       "      <td>-0.009713</td>\n",
       "      <td>-0.085340</td>\n",
       "      <td>0.016875</td>\n",
       "      <td>-0.132823</td>\n",
       "      <td>-0.093724</td>\n",
       "      <td>1.000000</td>\n",
       "      <td>-0.041491</td>\n",
       "      <td>-0.173684</td>\n",
       "      <td>-0.126407</td>\n",
       "      <td>-0.105567</td>\n",
       "      <td>0.004627</td>\n",
       "      <td>-0.121693</td>\n",
       "      <td>-0.013512</td>\n",
       "      <td>0.005088</td>\n",
       "      <td>0.001207</td>\n",
       "    </tr>\n",
       "    <tr>\n",
       "      <th>Purpose</th>\n",
       "      <td>-0.009806</td>\n",
       "      <td>0.002760</td>\n",
       "      <td>-0.022429</td>\n",
       "      <td>-0.012029</td>\n",
       "      <td>0.042092</td>\n",
       "      <td>-0.016192</td>\n",
       "      <td>-0.041491</td>\n",
       "      <td>1.000000</td>\n",
       "      <td>-0.076268</td>\n",
       "      <td>0.003283</td>\n",
       "      <td>-0.088716</td>\n",
       "      <td>0.020608</td>\n",
       "      <td>-0.065892</td>\n",
       "      <td>0.006633</td>\n",
       "      <td>0.012622</td>\n",
       "      <td>0.008931</td>\n",
       "    </tr>\n",
       "    <tr>\n",
       "      <th>Monthly Debt</th>\n",
       "      <td>0.012187</td>\n",
       "      <td>-0.004982</td>\n",
       "      <td>0.152292</td>\n",
       "      <td>0.000814</td>\n",
       "      <td>0.419778</td>\n",
       "      <td>0.071220</td>\n",
       "      <td>-0.173684</td>\n",
       "      <td>-0.076268</td>\n",
       "      <td>1.000000</td>\n",
       "      <td>0.196582</td>\n",
       "      <td>0.409781</td>\n",
       "      <td>-0.054595</td>\n",
       "      <td>0.477091</td>\n",
       "      <td>0.036895</td>\n",
       "      <td>-0.079014</td>\n",
       "      <td>0.021254</td>\n",
       "    </tr>\n",
       "    <tr>\n",
       "      <th>Years of Credit History</th>\n",
       "      <td>-0.029387</td>\n",
       "      <td>0.017662</td>\n",
       "      <td>0.037985</td>\n",
       "      <td>-0.011307</td>\n",
       "      <td>0.137466</td>\n",
       "      <td>0.118460</td>\n",
       "      <td>-0.126407</td>\n",
       "      <td>0.003283</td>\n",
       "      <td>0.196582</td>\n",
       "      <td>1.000000</td>\n",
       "      <td>0.130498</td>\n",
       "      <td>0.062398</td>\n",
       "      <td>0.209259</td>\n",
       "      <td>0.030369</td>\n",
       "      <td>0.066426</td>\n",
       "      <td>0.018759</td>\n",
       "    </tr>\n",
       "    <tr>\n",
       "      <th>Number of Open Accounts</th>\n",
       "      <td>0.013690</td>\n",
       "      <td>0.002009</td>\n",
       "      <td>0.078560</td>\n",
       "      <td>0.007060</td>\n",
       "      <td>0.126303</td>\n",
       "      <td>0.032702</td>\n",
       "      <td>-0.105567</td>\n",
       "      <td>-0.088716</td>\n",
       "      <td>0.409781</td>\n",
       "      <td>0.130498</td>\n",
       "      <td>1.000000</td>\n",
       "      <td>-0.015235</td>\n",
       "      <td>0.227907</td>\n",
       "      <td>0.029654</td>\n",
       "      <td>-0.025314</td>\n",
       "      <td>0.006492</td>\n",
       "    </tr>\n",
       "    <tr>\n",
       "      <th>Number of Credit Problems</th>\n",
       "      <td>0.006585</td>\n",
       "      <td>-0.000309</td>\n",
       "      <td>-0.024502</td>\n",
       "      <td>-0.000435</td>\n",
       "      <td>-0.014594</td>\n",
       "      <td>0.032467</td>\n",
       "      <td>0.004627</td>\n",
       "      <td>0.020608</td>\n",
       "      <td>-0.054595</td>\n",
       "      <td>0.062398</td>\n",
       "      <td>-0.015235</td>\n",
       "      <td>1.000000</td>\n",
       "      <td>-0.112001</td>\n",
       "      <td>-0.012000</td>\n",
       "      <td>0.753177</td>\n",
       "      <td>0.581414</td>\n",
       "    </tr>\n",
       "    <tr>\n",
       "      <th>Current Credit Balance</th>\n",
       "      <td>-0.009201</td>\n",
       "      <td>0.004634</td>\n",
       "      <td>0.101034</td>\n",
       "      <td>0.000893</td>\n",
       "      <td>0.269139</td>\n",
       "      <td>0.049947</td>\n",
       "      <td>-0.121693</td>\n",
       "      <td>-0.065892</td>\n",
       "      <td>0.477091</td>\n",
       "      <td>0.209259</td>\n",
       "      <td>0.227907</td>\n",
       "      <td>-0.112001</td>\n",
       "      <td>1.000000</td>\n",
       "      <td>0.131017</td>\n",
       "      <td>-0.122244</td>\n",
       "      <td>-0.014948</td>\n",
       "    </tr>\n",
       "    <tr>\n",
       "      <th>Maximum Open Credit</th>\n",
       "      <td>-0.009359</td>\n",
       "      <td>-0.001799</td>\n",
       "      <td>0.008533</td>\n",
       "      <td>-0.003071</td>\n",
       "      <td>0.033759</td>\n",
       "      <td>-0.002506</td>\n",
       "      <td>-0.013512</td>\n",
       "      <td>0.006633</td>\n",
       "      <td>0.036895</td>\n",
       "      <td>0.030369</td>\n",
       "      <td>0.029654</td>\n",
       "      <td>-0.012000</td>\n",
       "      <td>0.131017</td>\n",
       "      <td>1.000000</td>\n",
       "      <td>-0.014270</td>\n",
       "      <td>-0.001645</td>\n",
       "    </tr>\n",
       "    <tr>\n",
       "      <th>Bankruptcies</th>\n",
       "      <td>-0.003440</td>\n",
       "      <td>0.001856</td>\n",
       "      <td>-0.027202</td>\n",
       "      <td>-0.004414</td>\n",
       "      <td>-0.041459</td>\n",
       "      <td>0.032292</td>\n",
       "      <td>0.005088</td>\n",
       "      <td>0.012622</td>\n",
       "      <td>-0.079014</td>\n",
       "      <td>0.066426</td>\n",
       "      <td>-0.025314</td>\n",
       "      <td>0.753177</td>\n",
       "      <td>-0.122244</td>\n",
       "      <td>-0.014270</td>\n",
       "      <td>1.000000</td>\n",
       "      <td>0.046270</td>\n",
       "    </tr>\n",
       "    <tr>\n",
       "      <th>Tax Liens</th>\n",
       "      <td>0.012742</td>\n",
       "      <td>-0.001136</td>\n",
       "      <td>-0.002385</td>\n",
       "      <td>0.006403</td>\n",
       "      <td>0.036223</td>\n",
       "      <td>0.010630</td>\n",
       "      <td>0.001207</td>\n",
       "      <td>0.008931</td>\n",
       "      <td>0.021254</td>\n",
       "      <td>0.018759</td>\n",
       "      <td>0.006492</td>\n",
       "      <td>0.581414</td>\n",
       "      <td>-0.014948</td>\n",
       "      <td>-0.001645</td>\n",
       "      <td>0.046270</td>\n",
       "      <td>1.000000</td>\n",
       "    </tr>\n",
       "  </tbody>\n",
       "</table>\n",
       "</div>"
      ],
      "text/plain": [
       "                           Loan Status  Current Loan Amount      Term  \\\n",
       "Loan Status                   1.000000            -0.222058  0.138317   \n",
       "Current Loan Amount          -0.222058             1.000000 -0.052592   \n",
       "Term                          0.138317            -0.052592  1.000000   \n",
       "Credit Score                  0.395577            -0.087037  0.045816   \n",
       "Annual Income                -0.051713             0.031509  0.070690   \n",
       "Years in current job          0.009134            -0.003581  0.037998   \n",
       "Home Ownership                0.044188            -0.009713 -0.085340   \n",
       "Purpose                      -0.009806             0.002760 -0.022429   \n",
       "Monthly Debt                  0.012187            -0.004982  0.152292   \n",
       "Years of Credit History      -0.029387             0.017662  0.037985   \n",
       "Number of Open Accounts       0.013690             0.002009  0.078560   \n",
       "Number of Credit Problems     0.006585            -0.000309 -0.024502   \n",
       "Current Credit Balance       -0.009201             0.004634  0.101034   \n",
       "Maximum Open Credit          -0.009359            -0.001799  0.008533   \n",
       "Bankruptcies                 -0.003440             0.001856 -0.027202   \n",
       "Tax Liens                     0.012742            -0.001136 -0.002385   \n",
       "\n",
       "                           Credit Score  Annual Income  Years in current job  \\\n",
       "Loan Status                    0.395577      -0.051713              0.009134   \n",
       "Current Loan Amount           -0.087037       0.031509             -0.003581   \n",
       "Term                           0.045816       0.070690              0.037998   \n",
       "Credit Score                   1.000000      -0.006904              0.005384   \n",
       "Annual Income                 -0.006904       1.000000              0.029769   \n",
       "Years in current job           0.005384       0.029769              1.000000   \n",
       "Home Ownership                 0.016875      -0.132823             -0.093724   \n",
       "Purpose                       -0.012029       0.042092             -0.016192   \n",
       "Monthly Debt                   0.000814       0.419778              0.071220   \n",
       "Years of Credit History       -0.011307       0.137466              0.118460   \n",
       "Number of Open Accounts        0.007060       0.126303              0.032702   \n",
       "Number of Credit Problems     -0.000435      -0.014594              0.032467   \n",
       "Current Credit Balance         0.000893       0.269139              0.049947   \n",
       "Maximum Open Credit           -0.003071       0.033759             -0.002506   \n",
       "Bankruptcies                  -0.004414      -0.041459              0.032292   \n",
       "Tax Liens                      0.006403       0.036223              0.010630   \n",
       "\n",
       "                           Home Ownership   Purpose  Monthly Debt  \\\n",
       "Loan Status                      0.044188 -0.009806      0.012187   \n",
       "Current Loan Amount             -0.009713  0.002760     -0.004982   \n",
       "Term                            -0.085340 -0.022429      0.152292   \n",
       "Credit Score                     0.016875 -0.012029      0.000814   \n",
       "Annual Income                   -0.132823  0.042092      0.419778   \n",
       "Years in current job            -0.093724 -0.016192      0.071220   \n",
       "Home Ownership                   1.000000 -0.041491     -0.173684   \n",
       "Purpose                         -0.041491  1.000000     -0.076268   \n",
       "Monthly Debt                    -0.173684 -0.076268      1.000000   \n",
       "Years of Credit History         -0.126407  0.003283      0.196582   \n",
       "Number of Open Accounts         -0.105567 -0.088716      0.409781   \n",
       "Number of Credit Problems        0.004627  0.020608     -0.054595   \n",
       "Current Credit Balance          -0.121693 -0.065892      0.477091   \n",
       "Maximum Open Credit             -0.013512  0.006633      0.036895   \n",
       "Bankruptcies                     0.005088  0.012622     -0.079014   \n",
       "Tax Liens                        0.001207  0.008931      0.021254   \n",
       "\n",
       "                           Years of Credit History  Number of Open Accounts  \\\n",
       "Loan Status                              -0.029387                 0.013690   \n",
       "Current Loan Amount                       0.017662                 0.002009   \n",
       "Term                                      0.037985                 0.078560   \n",
       "Credit Score                             -0.011307                 0.007060   \n",
       "Annual Income                             0.137466                 0.126303   \n",
       "Years in current job                      0.118460                 0.032702   \n",
       "Home Ownership                           -0.126407                -0.105567   \n",
       "Purpose                                   0.003283                -0.088716   \n",
       "Monthly Debt                              0.196582                 0.409781   \n",
       "Years of Credit History                   1.000000                 0.130498   \n",
       "Number of Open Accounts                   0.130498                 1.000000   \n",
       "Number of Credit Problems                 0.062398                -0.015235   \n",
       "Current Credit Balance                    0.209259                 0.227907   \n",
       "Maximum Open Credit                       0.030369                 0.029654   \n",
       "Bankruptcies                              0.066426                -0.025314   \n",
       "Tax Liens                                 0.018759                 0.006492   \n",
       "\n",
       "                           Number of Credit Problems  Current Credit Balance  \\\n",
       "Loan Status                                 0.006585               -0.009201   \n",
       "Current Loan Amount                        -0.000309                0.004634   \n",
       "Term                                       -0.024502                0.101034   \n",
       "Credit Score                               -0.000435                0.000893   \n",
       "Annual Income                              -0.014594                0.269139   \n",
       "Years in current job                        0.032467                0.049947   \n",
       "Home Ownership                              0.004627               -0.121693   \n",
       "Purpose                                     0.020608               -0.065892   \n",
       "Monthly Debt                               -0.054595                0.477091   \n",
       "Years of Credit History                     0.062398                0.209259   \n",
       "Number of Open Accounts                    -0.015235                0.227907   \n",
       "Number of Credit Problems                   1.000000               -0.112001   \n",
       "Current Credit Balance                     -0.112001                1.000000   \n",
       "Maximum Open Credit                        -0.012000                0.131017   \n",
       "Bankruptcies                                0.753177               -0.122244   \n",
       "Tax Liens                                   0.581414               -0.014948   \n",
       "\n",
       "                           Maximum Open Credit  Bankruptcies  Tax Liens  \n",
       "Loan Status                          -0.009359     -0.003440   0.012742  \n",
       "Current Loan Amount                  -0.001799      0.001856  -0.001136  \n",
       "Term                                  0.008533     -0.027202  -0.002385  \n",
       "Credit Score                         -0.003071     -0.004414   0.006403  \n",
       "Annual Income                         0.033759     -0.041459   0.036223  \n",
       "Years in current job                 -0.002506      0.032292   0.010630  \n",
       "Home Ownership                       -0.013512      0.005088   0.001207  \n",
       "Purpose                               0.006633      0.012622   0.008931  \n",
       "Monthly Debt                          0.036895     -0.079014   0.021254  \n",
       "Years of Credit History               0.030369      0.066426   0.018759  \n",
       "Number of Open Accounts               0.029654     -0.025314   0.006492  \n",
       "Number of Credit Problems            -0.012000      0.753177   0.581414  \n",
       "Current Credit Balance                0.131017     -0.122244  -0.014948  \n",
       "Maximum Open Credit                   1.000000     -0.014270  -0.001645  \n",
       "Bankruptcies                         -0.014270      1.000000   0.046270  \n",
       "Tax Liens                            -0.001645      0.046270   1.000000  "
      ]
     },
     "execution_count": 52,
     "metadata": {},
     "output_type": "execute_result"
    }
   ],
   "source": [
    "credit_train_map.corr()"
   ]
  },
  {
   "cell_type": "code",
   "execution_count": 53,
   "id": "d0479ca6",
   "metadata": {},
   "outputs": [
    {
     "data": {
      "image/png": "[encoded data removed]",
      "text/plain": [
       "<Figure size 864x576 with 2 Axes>"
      ]
     },
     "metadata": {
      "needs_background": "light"
     },
     "output_type": "display_data"
    }
   ],
   "source": [
    "#Correlation Matrix\n",
    "\n",
    "plt.rcParams['figure.figsize'] = (12,8)\n",
    "sns.heatmap(credit_train_map.corr(),cmap = 'coolwarm', linewidths = 5, fmt = '.2f',annot = True);\n",
    "\n",
    "#Seems like Loan Status has the highest correlation to credit score, current loan amount and term"
   ]
  },
  {
   "cell_type": "markdown",
   "id": "a629fad3",
   "metadata": {},
   "source": [
    "To use credit_train df instead of credit_train_map to see the plotting more clearly."
   ]
  },
  {
   "cell_type": "code",
   "execution_count": 54,
   "id": "9301669c",
   "metadata": {},
   "outputs": [
    {
     "data": {
      "text/plain": [
       "array([<AxesSubplot:title={'center':'Charged Off'}>,\n",
       "       <AxesSubplot:title={'center':'Fully Paid'}>], dtype=object)"
      ]
     },
     "execution_count": 54,
     "metadata": {},
     "output_type": "execute_result"
    },
    {
     "data": {
      "image/png": "[encoded data removed]",
      "text/plain": [
       "<Figure size 1152x576 with 2 Axes>"
      ]
     },
     "metadata": {
      "needs_background": "light"
     },
     "output_type": "display_data"
    }
   ],
   "source": [
    "credit_train['Credit Score'].hist(by=credit_train['Loan Status'], figsize=(16,8))\n",
    "#Credit scores of those who has loan status fully paid has a range of credit scores between 575 to 750.\n",
    "#However, interestingly, those who have loan status charged off have either very low or very high credit scores.\n",
    "#Based on understanding, higher credit scores would also mean that customers are more likely to have loan status fully paid.\n",
    "#Not too sure if this is an anomaly and whether it was indicated wrongly for such customers who have very high credit scores but their loan statuses where charged off\n",
    "#However, to keep these scores for modelling"
   ]
  },
  {
   "cell_type": "code",
   "execution_count": 55,
   "id": "b73bfd26",
   "metadata": {},
   "outputs": [
    {
     "data": {
      "text/plain": [
       "array([<AxesSubplot:title={'center':'Charged Off'}>,\n",
       "       <AxesSubplot:title={'center':'Fully Paid'}>], dtype=object)"
      ]
     },
     "execution_count": 55,
     "metadata": {},
     "output_type": "execute_result"
    },
    {
     "data": {
      "image/png": "[encoded data removed]",
      "text/plain": [
       "<Figure size 1152x576 with 2 Axes>"
      ]
     },
     "metadata": {
      "needs_background": "light"
     },
     "output_type": "display_data"
    }
   ],
   "source": [
    "credit_train['Current Loan Amount'].hist(by=credit_train['Loan Status'], figsize=(16,8))\n",
    "#Customers whose loan status is fully paid have loan amounts at either end of the spectrum. \n",
    "#Customers whose loan status is charged off have a wide range of loan amount."
   ]
  },
  {
   "cell_type": "code",
   "execution_count": 56,
   "id": "6ceb3924",
   "metadata": {},
   "outputs": [
    {
     "data": {
      "text/plain": [
       "Loan Status  Term      \n",
       "Charged Off  Long Term     0.093378\n",
       "             Short Term    0.158729\n",
       "Fully Paid   Long Term     0.171844\n",
       "             Short Term    0.576049\n",
       "dtype: float64"
      ]
     },
     "execution_count": 56,
     "metadata": {},
     "output_type": "execute_result"
    }
   ],
   "source": [
    "credit_train.groupby(['Loan Status', 'Term']).size()/len(credit_train)\n",
    "#Seems like for loans on longer term, more likely to be charged off"
   ]
  },
  {
   "cell_type": "markdown",
   "id": "5ddf2802",
   "metadata": {},
   "source": [
    "# Baseline Model - Logistic Regression"
   ]
  },
  {
   "cell_type": "code",
   "execution_count": 57,
   "id": "2328572f",
   "metadata": {},
   "outputs": [
    {
     "data": {
      "text/plain": [
       "Current Loan Amount          1.0\n",
       "Term                         1.0\n",
       "Credit Score                 1.0\n",
       "Annual Income                1.0\n",
       "Years in current job         1.0\n",
       "Home Ownership               1.0\n",
       "Purpose                      1.0\n",
       "Monthly Debt                 1.0\n",
       "Years of Credit History      1.0\n",
       "Number of Open Accounts      1.0\n",
       "Number of Credit Problems    1.0\n",
       "Current Credit Balance       1.0\n",
       "Maximum Open Credit          1.0\n",
       "Bankruptcies                 1.0\n",
       "Tax Liens                    1.0\n",
       "dtype: float64"
      ]
     },
     "execution_count": 57,
     "metadata": {},
     "output_type": "execute_result"
    }
   ],
   "source": [
    "#Normalize data\n",
    "credit_train_map_standardized = credit_train_map.drop('Loan Status', axis=1)\n",
    "credit_train_map_standardized = (credit_train_map_standardized-credit_train_map_standardized.mean())/credit_train_map_standardized.std()\n",
    "credit_train_map_standardized.std()"
   ]
  },
  {
   "cell_type": "code",
   "execution_count": 58,
   "id": "08707bc6",
   "metadata": {},
   "outputs": [
    {
     "data": {
      "text/html": [
       "<div>\n",
       "<style scoped>\n",
       "    .dataframe tbody tr th:only-of-type {\n",
       "        vertical-align: middle;\n",
       "    }\n",
       "\n",
       "    .dataframe tbody tr th {\n",
       "        vertical-align: top;\n",
       "    }\n",
       "\n",
       "    .dataframe thead th {\n",
       "        text-align: right;\n",
       "    }\n",
       "</style>\n",
       "<table border=\"1\" class=\"dataframe\">\n",
       "  <thead>\n",
       "    <tr style=\"text-align: right;\">\n",
       "      <th></th>\n",
       "      <th>Current Loan Amount</th>\n",
       "      <th>Term</th>\n",
       "      <th>Credit Score</th>\n",
       "      <th>Annual Income</th>\n",
       "      <th>Years in current job</th>\n",
       "      <th>Home Ownership</th>\n",
       "      <th>Purpose</th>\n",
       "      <th>Monthly Debt</th>\n",
       "      <th>Years of Credit History</th>\n",
       "      <th>Number of Open Accounts</th>\n",
       "      <th>Number of Credit Problems</th>\n",
       "      <th>Current Credit Balance</th>\n",
       "      <th>Maximum Open Credit</th>\n",
       "      <th>Bankruptcies</th>\n",
       "      <th>Tax Liens</th>\n",
       "    </tr>\n",
       "  </thead>\n",
       "  <tbody>\n",
       "    <tr>\n",
       "      <th>90723</th>\n",
       "      <td>-0.388373</td>\n",
       "      <td>1.664452</td>\n",
       "      <td>-0.258752</td>\n",
       "      <td>-0.563009</td>\n",
       "      <td>-0.978700</td>\n",
       "      <td>0.609712</td>\n",
       "      <td>1.306144</td>\n",
       "      <td>-0.860785</td>\n",
       "      <td>-1.058111</td>\n",
       "      <td>-0.025165</td>\n",
       "      <td>-0.345417</td>\n",
       "      <td>-0.790303</td>\n",
       "      <td>-0.088064</td>\n",
       "      <td>-0.332067</td>\n",
       "      <td>-0.112243</td>\n",
       "    </tr>\n",
       "    <tr>\n",
       "      <th>70763</th>\n",
       "      <td>-0.373946</td>\n",
       "      <td>-0.600792</td>\n",
       "      <td>-0.214556</td>\n",
       "      <td>0.522790</td>\n",
       "      <td>1.636568</td>\n",
       "      <td>-0.929957</td>\n",
       "      <td>-0.480496</td>\n",
       "      <td>-0.122760</td>\n",
       "      <td>0.519886</td>\n",
       "      <td>-0.025165</td>\n",
       "      <td>-0.345417</td>\n",
       "      <td>0.352620</td>\n",
       "      <td>0.002975</td>\n",
       "      <td>-0.332067</td>\n",
       "      <td>-0.112243</td>\n",
       "    </tr>\n",
       "    <tr>\n",
       "      <th>69813</th>\n",
       "      <td>-0.372310</td>\n",
       "      <td>-0.600792</td>\n",
       "      <td>-0.235228</td>\n",
       "      <td>0.169702</td>\n",
       "      <td>-0.978700</td>\n",
       "      <td>0.609712</td>\n",
       "      <td>-0.480496</td>\n",
       "      <td>0.612964</td>\n",
       "      <td>0.804210</td>\n",
       "      <td>0.975556</td>\n",
       "      <td>-0.345417</td>\n",
       "      <td>2.731299</td>\n",
       "      <td>0.267324</td>\n",
       "      <td>-0.332067</td>\n",
       "      <td>-0.112243</td>\n",
       "    </tr>\n",
       "    <tr>\n",
       "      <th>90980</th>\n",
       "      <td>-0.384819</td>\n",
       "      <td>1.664452</td>\n",
       "      <td>-0.255188</td>\n",
       "      <td>-0.635539</td>\n",
       "      <td>1.636568</td>\n",
       "      <td>0.609712</td>\n",
       "      <td>-0.480496</td>\n",
       "      <td>-0.055491</td>\n",
       "      <td>-1.314002</td>\n",
       "      <td>-0.825742</td>\n",
       "      <td>-0.345417</td>\n",
       "      <td>-0.220603</td>\n",
       "      <td>-0.052490</td>\n",
       "      <td>-0.332067</td>\n",
       "      <td>-0.112243</td>\n",
       "    </tr>\n",
       "    <tr>\n",
       "      <th>80599</th>\n",
       "      <td>-0.383172</td>\n",
       "      <td>1.664452</td>\n",
       "      <td>-0.250911</td>\n",
       "      <td>0.537768</td>\n",
       "      <td>1.636568</td>\n",
       "      <td>-0.929957</td>\n",
       "      <td>-0.480496</td>\n",
       "      <td>-0.098882</td>\n",
       "      <td>-0.361517</td>\n",
       "      <td>0.174979</td>\n",
       "      <td>1.744889</td>\n",
       "      <td>-0.107603</td>\n",
       "      <td>-0.038938</td>\n",
       "      <td>-0.332067</td>\n",
       "      <td>3.803725</td>\n",
       "    </tr>\n",
       "  </tbody>\n",
       "</table>\n",
       "</div>"
      ],
      "text/plain": [
       "       Current Loan Amount      Term  Credit Score  Annual Income  \\\n",
       "90723            -0.388373  1.664452     -0.258752      -0.563009   \n",
       "70763            -0.373946 -0.600792     -0.214556       0.522790   \n",
       "69813            -0.372310 -0.600792     -0.235228       0.169702   \n",
       "90980            -0.384819  1.664452     -0.255188      -0.635539   \n",
       "80599            -0.383172  1.664452     -0.250911       0.537768   \n",
       "\n",
       "       Years in current job  Home Ownership   Purpose  Monthly Debt  \\\n",
       "90723             -0.978700        0.609712  1.306144     -0.860785   \n",
       "70763              1.636568       -0.929957 -0.480496     -0.122760   \n",
       "69813             -0.978700        0.609712 -0.480496      0.612964   \n",
       "90980              1.636568        0.609712 -0.480496     -0.055491   \n",
       "80599              1.636568       -0.929957 -0.480496     -0.098882   \n",
       "\n",
       "       Years of Credit History  Number of Open Accounts  \\\n",
       "90723                -1.058111                -0.025165   \n",
       "70763                 0.519886                -0.025165   \n",
       "69813                 0.804210                 0.975556   \n",
       "90980                -1.314002                -0.825742   \n",
       "80599                -0.361517                 0.174979   \n",
       "\n",
       "       Number of Credit Problems  Current Credit Balance  Maximum Open Credit  \\\n",
       "90723                  -0.345417               -0.790303            -0.088064   \n",
       "70763                  -0.345417                0.352620             0.002975   \n",
       "69813                  -0.345417                2.731299             0.267324   \n",
       "90980                  -0.345417               -0.220603            -0.052490   \n",
       "80599                   1.744889               -0.107603            -0.038938   \n",
       "\n",
       "       Bankruptcies  Tax Liens  \n",
       "90723     -0.332067  -0.112243  \n",
       "70763     -0.332067  -0.112243  \n",
       "69813     -0.332067  -0.112243  \n",
       "90980     -0.332067  -0.112243  \n",
       "80599     -0.332067   3.803725  "
      ]
     },
     "execution_count": 58,
     "metadata": {},
     "output_type": "execute_result"
    }
   ],
   "source": [
    "#Take a look at the normalize data\n",
    "credit_train_map_standardized.sample(5)"
   ]
  },
  {
   "cell_type": "code",
   "execution_count": 59,
   "id": "8ab5e69b",
   "metadata": {},
   "outputs": [
    {
     "name": "stdout",
     "output_type": "stream",
     "text": [
      "Accuracy:  0.7960623242109023\n"
     ]
    }
   ],
   "source": [
    "#Apply Logistic Regression\n",
    "from sklearn.linear_model import LogisticRegression\n",
    "from sklearn.model_selection import train_test_split\n",
    "from sklearn.metrics import accuracy_score\n",
    "\n",
    "#Initialize Xs and y\n",
    "X = credit_train_map_standardized #Already drop Loan Status during normalization\n",
    "y = credit_train_map[[\"Loan Status\"]]\n",
    "\n",
    "#Initialize logistic regression model\n",
    "logreg = LogisticRegression()\n",
    "\n",
    "#Train test split\n",
    "X_train, X_test, y_train, y_test = train_test_split(X,y,random_state=0)\n",
    "\n",
    "#Fit X_train and y_train\n",
    "logreg.fit(X_train,y_train)\n",
    "\n",
    "#Use model to predict X_test\n",
    "y_pred_lg = logreg.predict(X_test)\n",
    "\n",
    "#Compare predictions to y_test\n",
    "print('Accuracy: ', accuracy_score(y_test,y_pred_lg))"
   ]
  },
  {
   "cell_type": "markdown",
   "id": "64cc0a07",
   "metadata": {},
   "source": [
    "# Logistic Regression Model Evaluation"
   ]
  },
  {
   "cell_type": "markdown",
   "id": "c3637275",
   "metadata": {},
   "source": [
    "# Confusion Matrix"
   ]
  },
  {
   "cell_type": "code",
   "execution_count": 60,
   "id": "7ac2b554",
   "metadata": {},
   "outputs": [
    {
     "name": "stderr",
     "output_type": "stream",
     "text": [
      "findfont: Font family ['normal'] not found. Falling back to DejaVu Sans.\n"
     ]
    },
    {
     "data": {
      "image/png": "[encoded data removed]",
      "text/plain": [
       "<Figure size 864x576 with 2 Axes>"
      ]
     },
     "metadata": {
      "needs_background": "light"
     },
     "output_type": "display_data"
    }
   ],
   "source": [
    "from sklearn.metrics import confusion_matrix\n",
    "from sklearn.metrics import ConfusionMatrixDisplay\n",
    "\n",
    "font = {'family' : 'normal',\n",
    "        'size'   : 15}\n",
    "plt.rc('font', **font)\n",
    "\n",
    "cm = confusion_matrix(y_test, y_pred_lg)\n",
    "cm\n",
    "\n",
    "cm_display = ConfusionMatrixDisplay(cm).plot()"
   ]
  },
  {
   "cell_type": "markdown",
   "id": "a967e07e",
   "metadata": {},
   "source": [
    "False Negative is low at 2 cases. > This model predicts 2 customers to not be able to repay their loans when in actual fact they were able to do so.<br>\n",
    "False Positive is high at 4566 cases. > This model predicts 4566 customers to be able to repay their loans when in actual fact they were not able to do so.<br>\n",
    "False Positive rate is rather high. Need to reduce this % if not bank will make a lot of losses from unpaid debts."
   ]
  },
  {
   "cell_type": "markdown",
   "id": "4ac04c08",
   "metadata": {},
   "source": [
    "# ROC Curve"
   ]
  },
  {
   "cell_type": "code",
   "execution_count": 61,
   "id": "e069a7dd",
   "metadata": {},
   "outputs": [
    {
     "name": "stdout",
     "output_type": "stream",
     "text": [
      "AUC score:  0.7466101356201447\n"
     ]
    },
    {
     "data": {
      "image/png": "[encoded data removed]",
      "text/plain": [
       "<Figure size 864x576 with 1 Axes>"
      ]
     },
     "metadata": {
      "needs_background": "light"
     },
     "output_type": "display_data"
    }
   ],
   "source": [
    "from sklearn.metrics import roc_curve, roc_auc_score\n",
    "from sklearn.metrics import RocCurveDisplay\n",
    "\n",
    "y_score = logreg.predict_proba(X_test)[:,1]\n",
    "y_score\n",
    "\n",
    "fpr, tpr, _ = roc_curve(y_test, y_score, pos_label=logreg.classes_[1])\n",
    "roc_display = RocCurveDisplay(fpr=fpr, tpr=tpr).plot()\n",
    "\n",
    "print('AUC score: ',roc_auc_score(y_test,y_score)) "
   ]
  },
  {
   "cell_type": "markdown",
   "id": "484d0313",
   "metadata": {},
   "source": [
    "A model with an AUC score of 0.5 is no better than a model that performs random guessing.<br>\n",
    "The higher the AUC score, the better the model is able to classify observations into classes.<br>\n",
    "Based on the following rule of thumb from Hosmer and Lemeshow in Applied Logistic Regression (p. 177),<br>\n",
    "0.5 = No discrimination<br>\n",
    "0.5-0.7 = Poor discrimination<br>\n",
    "0.7-0.8 = Acceptable discrimination<br>\n",
    "0.8-0.9= Excellent discrimination<br>\n",
    "'>0.9 = Outstanding discrimination<br>\n",
    "\n",
    "The Logistic Regression model with AUC score of 0.75 is still within acceptable level."
   ]
  },
  {
   "cell_type": "markdown",
   "id": "b9de262c",
   "metadata": {},
   "source": [
    "# KNearest Neighbours"
   ]
  },
  {
   "cell_type": "code",
   "execution_count": 62,
   "id": "666a0c64",
   "metadata": {},
   "outputs": [
    {
     "name": "stdout",
     "output_type": "stream",
     "text": [
      "Accuracy:  0.7115049779007991\n"
     ]
    }
   ],
   "source": [
    "#Import KNN\n",
    "from sklearn.neighbors import KNeighborsClassifier\n",
    "\n",
    "#Assign your data and target\n",
    "X = credit_train_map_standardized #Already drop Loan Status during normalization\n",
    "y = credit_train_map[[\"Loan Status\"]]\n",
    "\n",
    "#Train, test, split\n",
    "X_train, X_test, y_train, y_test = train_test_split(X,y,random_state=99)\n",
    "\n",
    "#Train the model on the training set (using K=1)\n",
    "knn=KNeighborsClassifier(n_neighbors=1)\n",
    "knn.fit(X_train, y_train)\n",
    "\n",
    "#Test the model on the testing set, and check the accuracy\n",
    "y_pred_knn = knn.predict(X_test)\n",
    "print('Accuracy: ', accuracy_score(y_test,y_pred_knn))"
   ]
  },
  {
   "cell_type": "markdown",
   "id": "3e053baf",
   "metadata": {},
   "source": [
    "# Decision Trees"
   ]
  },
  {
   "cell_type": "code",
   "execution_count": 63,
   "id": "9e67c095",
   "metadata": {},
   "outputs": [
    {
     "name": "stdout",
     "output_type": "stream",
     "text": [
      "Accuracy:  0.7082459038349926\n"
     ]
    }
   ],
   "source": [
    "from sklearn.tree import DecisionTreeClassifier\n",
    "from sklearn.impute import SimpleImputer\n",
    "\n",
    "X = credit_train_map_standardized #Already drop Loan Status during normalization\n",
    "y = credit_train_map[[\"Loan Status\"]]\n",
    "\n",
    "X_train, X_test, y_train, y_test = train_test_split(X, y, random_state=42)\n",
    "si = SimpleImputer(strategy='most_frequent')\n",
    "X_train = si.fit_transform(X_train)\n",
    "dt = DecisionTreeClassifier()\n",
    "dt.fit(X_train,y_train)\n",
    "X_test = si.transform(X_test)\n",
    "y_pred_dt= dt.predict(X_test)\n",
    "print('Accuracy: ', accuracy_score(y_test,y_pred_dt))"
   ]
  },
  {
   "cell_type": "markdown",
   "id": "24fa73ff",
   "metadata": {},
   "source": [
    "KNearest Neighbours and Decision Trees have about the same accuracy score, which is lower than Logistic Regression.<br>\n",
    "To try to improve the model for KNearest Neighbours using GridSearch."
   ]
  },
  {
   "cell_type": "markdown",
   "id": "548d9faf",
   "metadata": {},
   "source": [
    "# GridSearch for KNearest Neighbours"
   ]
  },
  {
   "cell_type": "code",
   "execution_count": 64,
   "id": "78617088",
   "metadata": {},
   "outputs": [
    {
     "name": "stdout",
     "output_type": "stream",
     "text": [
      "Best Estimator: 20\n",
      "Best Score: 0.7949617071391588\n"
     ]
    }
   ],
   "source": [
    "#Load gridsearch\n",
    "from sklearn.model_selection import GridSearchCV\n",
    "\n",
    "X = credit_train_map_standardized #Already drop Loan Status during normalization\n",
    "y = credit_train_map[[\"Loan Status\"]]\n",
    "\n",
    "#Setup our GridSearch Parmaters\n",
    "search_parameters = {'n_neighbors':  [1,20]}\n",
    "\n",
    "#Intialize KNN \n",
    "knn = KNeighborsClassifier()\n",
    "\n",
    "#Intialize GridSearchCV\n",
    "clf = GridSearchCV(knn, search_parameters)\n",
    "\n",
    "#Fit our training data\n",
    "clf.fit(X,y)\n",
    "\n",
    "print(\"Best Estimator:\", clf.best_estimator_.n_neighbors)\n",
    "print(\"Best Score:\", clf.best_score_)"
   ]
  },
  {
   "cell_type": "markdown",
   "id": "50d01dbd",
   "metadata": {},
   "source": [
    "# KNearest Neighbours Model Evaluation"
   ]
  },
  {
   "cell_type": "code",
   "execution_count": 65,
   "id": "638651ac",
   "metadata": {},
   "outputs": [
    {
     "name": "stdout",
     "output_type": "stream",
     "text": [
      "Accuracy:  0.7943211750524577\n"
     ]
    }
   ],
   "source": [
    "#Using K=20 for the KNearest Neighbours model\n",
    "\n",
    "#Assign your data and target\n",
    "X = credit_train_map_standardized #Already drop Loan Status during normalization\n",
    "y = credit_train_map[[\"Loan Status\"]]\n",
    "\n",
    "#Train, test, split\n",
    "X_train, X_test, y_train, y_test = train_test_split(X,y,random_state=99)\n",
    "\n",
    "#Train the model on the training set (using K=20)\n",
    "knn=KNeighborsClassifier(n_neighbors=20)\n",
    "knn.fit(X_train, y_train)\n",
    "\n",
    "#Test the model on the testing set, and check the accuracy\n",
    "y_pred_knn = knn.predict(X_test)\n",
    "print('Accuracy: ', accuracy_score(y_test,y_pred_knn))"
   ]
  },
  {
   "cell_type": "markdown",
   "id": "1029e5b2",
   "metadata": {},
   "source": [
    "# Confusion Matrix"
   ]
  },
  {
   "cell_type": "code",
   "execution_count": 66,
   "id": "c041dd0c",
   "metadata": {},
   "outputs": [
    {
     "data": {
      "image/png": "[encoded data removed]",
      "text/plain": [
       "<Figure size 864x576 with 2 Axes>"
      ]
     },
     "metadata": {
      "needs_background": "light"
     },
     "output_type": "display_data"
    }
   ],
   "source": [
    "font = {'family' : 'normal',\n",
    "        'size'   : 15}\n",
    "plt.rc('font', **font)\n",
    "\n",
    "cm = confusion_matrix(y_test, y_pred_knn)\n",
    "cm\n",
    "\n",
    "cm_display = ConfusionMatrixDisplay(cm).plot()"
   ]
  },
  {
   "cell_type": "markdown",
   "id": "3f242d21",
   "metadata": {},
   "source": [
    "Number of false positive decreased but number of false negatives increased as well."
   ]
  },
  {
   "cell_type": "markdown",
   "id": "5ee08540",
   "metadata": {},
   "source": [
    "# ROC Curve"
   ]
  },
  {
   "cell_type": "code",
   "execution_count": 67,
   "id": "5f3e8e40",
   "metadata": {},
   "outputs": [
    {
     "name": "stdout",
     "output_type": "stream",
     "text": [
      "AUC score:  0.7175382746172527\n"
     ]
    },
    {
     "data": {
      "image/png": "[encoded data removed]",
      "text/plain": [
       "<Figure size 864x576 with 1 Axes>"
      ]
     },
     "metadata": {
      "needs_background": "light"
     },
     "output_type": "display_data"
    }
   ],
   "source": [
    "y_score = knn.predict_proba(X_test)[:,1]\n",
    "y_score\n",
    "\n",
    "fpr, tpr, _ = roc_curve(y_test, y_score, pos_label=knn.classes_[1])\n",
    "roc_display = RocCurveDisplay(fpr=fpr, tpr=tpr).plot()\n",
    "\n",
    "print('AUC score: ',roc_auc_score(y_test,y_score))"
   ]
  },
  {
   "cell_type": "markdown",
   "id": "ed948a6e",
   "metadata": {},
   "source": [
    "AUC score for KNearest Neighbours perform slightly poorer than for Logistic Regression."
   ]
  },
  {
   "cell_type": "markdown",
   "id": "6c2874dd",
   "metadata": {},
   "source": [
    "# Summary"
   ]
  },
  {
   "cell_type": "markdown",
   "id": "fbc6c809",
   "metadata": {},
   "source": [
    "The aim of the project was to use historical bank loan data to predict a client's ability to repay future loans based on client's info and credit history.<br>\n",
    "\n",
    "Data cleansing was performed on the dataset along with analysis of the data distribution pattern. String type data was mapped to numerical value before finding correlation of different variables with the target. Credit Score, Current Loan Amount and Term were most closely related to the target (Loan Status), of which Credit Score shows the strongest correlation at 0.40.<br>\n",
    "\n",
    "Before building the Logistic Regression Baseline Model, apart from the assigning of string type data to a numerical value, the numerical data was also normalized.<br>\n",
    "\n",
    "The Logistic Regression Model did considerably well with an test accuracy of ~0.80 and AUC score of ~0.75. However, upon further analysis via the Confusion Matrix, it was made aware that the number of false positives are high and account for almost all the ~0.20 inaccuracies score in test result.<br>\n",
    "\n",
    "The KNearest Neighbours and Decision Trees model had test accuracies of ~0.71. Upon applying Grid Search to find the optimal number of neighbours for the KNearest Neighbours model, the test accuracy was improved to ~0.79. However, when evaluating the model, the AUC score was ~0.72 and while the number of false positives decreased slightly, it was compensated with the increase in number of false negatives.<br>\n",
    "\n",
    "Overall, the performance of both the Logistic Regression and KNearest Neighbours models are about the same. However, it is necessary to improve the accuracy scores of either model and reduce the number of false positives so that the bank would not suffer losses from charged off debts. A balance between the number of false positives and false negatives with a higher accuracy score would be more desirable in this scenario.<br>\n",
    "\n",
    "Limitations: About 4 columns in the dataset had between 4-53% of null values. It would be good if these values could be provided for better analysis and model prediction. Some other client info such as liquid assets and value of collaterals could be provided for better data analysis and modelling."
   ]
  }
 ],
 "metadata": {
  "kernelspec": {
   "display_name": "Python 3 (ipykernel)",
   "language": "python",
   "name": "python3"
  },
  "language_info": {
   "codemirror_mode": {
    "name": "ipython",
    "version": 3
   },
   "file_extension": ".py",
   "mimetype": "text/x-python",
   "name": "python",
   "nbconvert_exporter": "python",
   "pygments_lexer": "ipython3",
   "version": "3.9.12"
  }
 },
 "nbformat": 4,
 "nbformat_minor": 5
}
